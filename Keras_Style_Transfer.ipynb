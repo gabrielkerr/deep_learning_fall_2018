{
  "nbformat": 4,
  "nbformat_minor": 0,
  "metadata": {
    "colab": {
      "name": "Keras Style Transfer",
      "version": "0.3.2",
      "provenance": [],
      "collapsed_sections": [],
      "include_colab_link": true
    },
    "kernelspec": {
      "name": "python3",
      "display_name": "Python 3"
    }
  },
  "cells": [
    {
      "cell_type": "markdown",
      "metadata": {
        "id": "view-in-github",
        "colab_type": "text"
      },
      "source": [
        "<a href=\"https://colab.research.google.com/github/gabrielkerr/deep_learning_fall_2018/blob/master/Keras_Style_Transfer.ipynb\" target=\"_parent\"><img src=\"https://colab.research.google.com/assets/colab-badge.svg\" alt=\"Open In Colab\"/></a>"
      ]
    },
    {
      "metadata": {
        "id": "3GRf8wVhVEXn",
        "colab_type": "text"
      },
      "cell_type": "markdown",
      "source": [
        "# Setup\n"
      ]
    },
    {
      "metadata": {
        "id": "SLlYaef2V-Ta",
        "colab_type": "text"
      },
      "cell_type": "markdown",
      "source": [
        "## Imports and Installs"
      ]
    },
    {
      "metadata": {
        "id": "uVJVkLKSU51l",
        "colab_type": "code",
        "colab": {
          "base_uri": "https://localhost:8080/",
          "height": 102
        },
        "outputId": "ccc8bbd0-f0e2-4daf-aa31-814a60887587"
      },
      "cell_type": "code",
      "source": [
        "# Installing packages and cloning git repos\n",
        "!pip install music21\n",
        "!pip install h5py\n",
        "!git clone https://github.com/Skuldur/Classical-Piano-Composer.git"
      ],
      "execution_count": 1,
      "outputs": [
        {
          "output_type": "stream",
          "text": [
            "Requirement already satisfied: music21 in /usr/local/lib/python3.6/dist-packages (5.5.0)\n",
            "Requirement already satisfied: h5py in /usr/local/lib/python3.6/dist-packages (2.8.0)\n",
            "Requirement already satisfied: six in /usr/local/lib/python3.6/dist-packages (from h5py) (1.11.0)\n",
            "Requirement already satisfied: numpy>=1.7 in /usr/local/lib/python3.6/dist-packages (from h5py) (1.14.6)\n",
            "fatal: destination path 'Classical-Piano-Composer' already exists and is not an empty directory.\n"
          ],
          "name": "stdout"
        }
      ]
    },
    {
      "metadata": {
        "id": "aEGEnvwJVI5A",
        "colab_type": "code",
        "colab": {
          "base_uri": "https://localhost:8080/",
          "height": 34
        },
        "outputId": "4117d5ba-4c39-4b56-d8f0-edb0c32c1d6a"
      },
      "cell_type": "code",
      "source": [
        "# imports\n",
        "import keras\n",
        "from keras import backend as K\n",
        "import tensorflow as tf\n",
        "import music21\n",
        "import h5py\n",
        "import os\n",
        "import numpy as np"
      ],
      "execution_count": 2,
      "outputs": [
        {
          "output_type": "stream",
          "text": [
            "Using TensorFlow backend.\n"
          ],
          "name": "stderr"
        }
      ]
    },
    {
      "metadata": {
        "id": "UL9lJxeaVPtG",
        "colab_type": "code",
        "colab": {}
      },
      "cell_type": "code",
      "source": [
        "os.chdir('Classical-Piano-Composer')"
      ],
      "execution_count": 0,
      "outputs": []
    },
    {
      "metadata": {
        "id": "lN-CoGBSWElH",
        "colab_type": "text"
      },
      "cell_type": "markdown",
      "source": [
        "## Load Pretrained Model"
      ]
    },
    {
      "metadata": {
        "id": "ImsboNb9V0-0",
        "colab_type": "code",
        "colab": {}
      },
      "cell_type": "code",
      "source": [
        "# Load trained model\n",
        "from keras.layers import LSTM, Dropout, Dense, Activation\n",
        "from keras import Sequential\n",
        "\n",
        "model = Sequential()\n",
        "model.add(LSTM(\n",
        "    512,\n",
        "    input_shape=(100, 1),\n",
        "    return_sequences=True\n",
        "))\n",
        "model.add(Dropout(0.3))\n",
        "model.add(LSTM(512, return_sequences=True))\n",
        "model.add(Dropout(0.3))\n",
        "model.add(LSTM(512))\n",
        "model.add(Dense(256))\n",
        "model.add(Dropout(0.3))\n",
        "model.add(Dense(359))\n",
        "model.add(Activation('softmax'))\n",
        "model.compile(loss='categorical_crossentropy', optimizer='rmsprop')\n",
        "# Load the weights to each node\n",
        "model.load_weights('new_weights.hdf5')"
      ],
      "execution_count": 0,
      "outputs": []
    },
    {
      "metadata": {
        "id": "m18fRiQkcfoZ",
        "colab_type": "code",
        "colab": {
          "base_uri": "https://localhost:8080/",
          "height": 170
        },
        "outputId": "2040cf32-408a-44ca-bad5-ac53f608af2d"
      },
      "cell_type": "code",
      "source": [
        "for layer in model.layers:\n",
        "  print(str(type(layer)))"
      ],
      "execution_count": 5,
      "outputs": [
        {
          "output_type": "stream",
          "text": [
            "<class 'keras.layers.recurrent.LSTM'>\n",
            "<class 'keras.layers.core.Dropout'>\n",
            "<class 'keras.layers.recurrent.LSTM'>\n",
            "<class 'keras.layers.core.Dropout'>\n",
            "<class 'keras.layers.recurrent.LSTM'>\n",
            "<class 'keras.layers.core.Dense'>\n",
            "<class 'keras.layers.core.Dropout'>\n",
            "<class 'keras.layers.core.Dense'>\n",
            "<class 'keras.layers.core.Activation'>\n"
          ],
          "name": "stdout"
        }
      ]
    },
    {
      "metadata": {
        "id": "eWzSEMNwWldZ",
        "colab_type": "text"
      },
      "cell_type": "markdown",
      "source": [
        "# Define Loss Function"
      ]
    },
    {
      "metadata": {
        "id": "oJ5ZBSNgWa5J",
        "colab_type": "code",
        "colab": {}
      },
      "cell_type": "code",
      "source": [
        "def content_loss(input_sequence, output_sequence):\n",
        "  return tf.linalg.norm(input_sequence - output_sequence)\n",
        "\n",
        "\n",
        "def style_loss(trained_model, new_model):\n",
        "  num_layers = len(trained_model.layers)\n",
        "  loss = 0\n",
        "  \n",
        "  # Loop through weights\n",
        "  for i in range(num_layers):\n",
        "    trained_layer = trained_model.layers[i]\n",
        "    new_layer = new_model.layers[i]\n",
        "    # Check if layer is LSTM or Dense\n",
        "    if not (str(type(trained_layer) == \"<class 'keras.layers.recurrent.LSTM'>\")) and not (str(type(trained_layer) == \"<class 'keras.layers.core.Dense'>\")):\n",
        "      continue\n",
        "  \n",
        "    trained_weights = trained_layer.get_weights()\n",
        "    new_weights = new_layer.get_weights()\n",
        "    for j in range(len(trained_layer.get_weights())):\n",
        "      loss += tf.linalg.norm(trained_weights[j] - new_weights[j])\n",
        "      \n",
        "    \n",
        "  \n",
        "  return loss\n",
        "\n",
        "\n",
        "def total_loss(input_sequence, output_sequence, trained_model, new_model, alpha, beta):\n",
        "  return alpha*content_loss(input_sequence, output_sequence) + beta*style_loss(trained_model, new_model)"
      ],
      "execution_count": 0,
      "outputs": []
    },
    {
      "metadata": {
        "id": "LLGKgnvXdjzN",
        "colab_type": "code",
        "colab": {
          "base_uri": "https://localhost:8080/",
          "height": 34
        },
        "outputId": "36399f03-f601-4f48-cfd5-3947853fd7d8"
      },
      "cell_type": "code",
      "source": [
        "\n",
        "style_loss(model, model)"
      ],
      "execution_count": 7,
      "outputs": [
        {
          "output_type": "execute_result",
          "data": {
            "text/plain": [
              "<tf.Tensor 'add_12:0' shape=() dtype=float32>"
            ]
          },
          "metadata": {
            "tags": []
          },
          "execution_count": 7
        }
      ]
    },
    {
      "metadata": {
        "id": "T9SbFGiidrR6",
        "colab_type": "code",
        "colab": {
          "base_uri": "https://localhost:8080/",
          "height": 34
        },
        "outputId": "88e67d2c-88e4-4a18-8a17-85d1b9e50204"
      },
      "cell_type": "code",
      "source": [
        "input_sequence = tf.zeros(shape=[2,2])\n",
        "output_sequence = tf.zeros(shape=[2,2])\n",
        "\n",
        "with tf.Session() as sess:\n",
        "  init = tf.global_variables_initializer()\n",
        "  sess.run(init)\n",
        "  x = sess.run(content_loss(input_sequence, output_sequence))\n",
        "  y = sess.run(total_loss(input_sequence, output_sequence, model, model, 1, 1))\n",
        "  print(y)"
      ],
      "execution_count": 8,
      "outputs": [
        {
          "output_type": "stream",
          "text": [
            "0.0\n"
          ],
          "name": "stdout"
        }
      ]
    },
    {
      "metadata": {
        "id": "aBdeQvbuqLVP",
        "colab_type": "text"
      },
      "cell_type": "markdown",
      "source": [
        "# Generate a Sequence"
      ]
    },
    {
      "metadata": {
        "id": "22yJsCXwiSrP",
        "colab_type": "code",
        "colab": {}
      },
      "cell_type": "code",
      "source": [
        "from lstm import get_notes, prepare_sequences"
      ],
      "execution_count": 0,
      "outputs": []
    },
    {
      "metadata": {
        "id": "P5Wsyyd0qNtX",
        "colab_type": "code",
        "colab": {}
      },
      "cell_type": "code",
      "source": [
        "\"\"\" This module generates notes for a midi file using the\n",
        "  trained neural network \"\"\"\n",
        "import pickle\n",
        "import numpy\n",
        "import keras\n",
        "from music21 import instrument, note, stream, chord\n",
        "from keras.models import Sequential\n",
        "from keras.layers import Dense\n",
        "from keras.layers import Dropout\n",
        "from keras.layers import LSTM\n",
        "from keras.layers import Activation\n",
        "\n",
        "def generate(idx, notes):\n",
        "  \"\"\" Generate a piano midi file \"\"\"\n",
        "  #load the notes used to train the model\n",
        "  #notes = get_notes()\n",
        "\n",
        "  # Get all pitch names\n",
        "  pitchnames = sorted(set(item for item in notes))\n",
        "  # Get all pitch names\n",
        "  n_vocab = len(set(notes))\n",
        "\n",
        "  network_input, normalized_input = prepare_sequences(notes, pitchnames, n_vocab)\n",
        "  model = create_network(normalized_input, n_vocab)\n",
        "  prediction_output, pattern = generate_notes(model, network_input, idx, pitchnames, n_vocab)\n",
        "  create_midi(prediction_output)\n",
        "  \n",
        "  return pattern\n",
        "\n",
        "\n",
        "def prepare_sequences(notes, pitchnames, n_vocab):\n",
        "  \"\"\" Prepare the sequences used by the Neural Network \"\"\"\n",
        "  # map between notes and integers and back\n",
        "  note_to_int = dict((note, number) for number, note in enumerate(pitchnames))\n",
        "\n",
        "  sequence_length = 100\n",
        "  network_input = []\n",
        "  output = []\n",
        "  for i in range(0, len(notes) - sequence_length, 1):\n",
        "      sequence_in = notes[i:i + sequence_length]\n",
        "      sequence_out = notes[i + sequence_length]\n",
        "      network_input.append([note_to_int[char] for char in sequence_in])\n",
        "      output.append(note_to_int[sequence_out])\n",
        "\n",
        "  n_patterns = len(network_input)\n",
        "\n",
        "  # reshape the input into a format compatible with LSTM layers\n",
        "  normalized_input = numpy.reshape(network_input, (n_patterns, sequence_length, 1))\n",
        "  # normalize input\n",
        "  normalized_input = normalized_input / float(n_vocab)\n",
        "\n",
        "  return (network_input, normalized_input)\n",
        "\n",
        "def create_network(network_input, n_vocab):\n",
        "  \"\"\" create the structure of the neural network \"\"\"\n",
        "  model = Sequential()\n",
        "  model.add(LSTM(\n",
        "      512,\n",
        "      input_shape=(network_input.shape[1], network_input.shape[2]),\n",
        "      return_sequences=True\n",
        "  ))\n",
        "  model.add(Dropout(0.3))\n",
        "  model.add(LSTM(512, return_sequences=True))\n",
        "  model.add(Dropout(0.3))\n",
        "  model.add(LSTM(512))\n",
        "  model.add(Dense(256))\n",
        "  model.add(Dropout(0.3))\n",
        "  model.add(Dense(n_vocab+1))\n",
        "  model.add(Activation('softmax'))\n",
        "  model.compile(loss='categorical_crossentropy', optimizer='rmsprop')\n",
        "\n",
        "  # Load the weights to each node\n",
        "  model.load_weights('new_weights.hdf5')\n",
        "\n",
        "  return model\n",
        "\n",
        "def generate_notes(model, network_input, idx, pitchnames, n_vocab):\n",
        "  \"\"\" Generate notes from the neural network based on a sequence of notes \"\"\"\n",
        "  # pick a random sequence from the input as a starting point for the prediction\n",
        "  #start = numpy.random.randint(0, len(network_input)-1)\n",
        "  start = idx\n",
        "\n",
        "  int_to_note = dict((number, note) for number, note in enumerate(pitchnames))\n",
        "\n",
        "  pattern = network_input[start]\n",
        "  prediction_output = []\n",
        "\n",
        "  # generate 500 notes\n",
        "  #for note_index in range(500):\n",
        "  for note_index in range(100):\n",
        "\n",
        "      prediction_input = numpy.reshape(pattern, (1, len(pattern), 1))\n",
        "      prediction_input = prediction_input / float(n_vocab)\n",
        "\n",
        "      prediction = model.predict(prediction_input, verbose=0)\n",
        "\n",
        "      index = numpy.argmax(prediction)\n",
        "      result = int_to_note[index]\n",
        "      prediction_output.append(result)\n",
        "\n",
        "      pattern.append(index)\n",
        "      pattern = pattern[1:len(pattern)]\n",
        "\n",
        "  return prediction_output, pattern\n",
        "\n",
        "def create_midi(prediction_output):\n",
        "  \"\"\" convert the output from the prediction to notes and create a midi file\n",
        "      from the notes \"\"\"\n",
        "  offset = 0\n",
        "  output_notes = []\n",
        "\n",
        "  # create note and chord objects based on the values generated by the model\n",
        "  for pattern in prediction_output:\n",
        "      # pattern is a chord\n",
        "      if ('.' in pattern) or pattern.isdigit():\n",
        "          notes_in_chord = pattern.split('.')\n",
        "          notes = []\n",
        "          for current_note in notes_in_chord:\n",
        "              new_note = note.Note(int(current_note))\n",
        "              new_note.storedInstrument = instrument.Piano()\n",
        "              notes.append(new_note)\n",
        "          new_chord = chord.Chord(notes)\n",
        "          new_chord.offset = offset\n",
        "          output_notes.append(new_chord)\n",
        "      # pattern is a note\n",
        "      else:\n",
        "          new_note = note.Note(pattern)\n",
        "          new_note.offset = offset\n",
        "          new_note.storedInstrument = instrument.Piano()\n",
        "          output_notes.append(new_note)\n",
        "\n",
        "      # increase offset each iteration so that notes do not stack\n",
        "      offset += 0.5\n",
        "\n",
        "  midi_stream = stream.Stream(output_notes)\n",
        "\n",
        "  midi_stream.write('midi', fp='test_output.mid')\n",
        "  \n",
        "  \n",
        "def generate_notes_from_melody(normalized_meloday_seq, network_input, idx, pitchnames, n_vocab):\n",
        "  \"\"\" Generate notes from the neural network based on a sequence of notes \"\"\"\n",
        "  # pick a random sequence from the input as a starting point for the prediction\n",
        "  #start = numpy.random.randint(0, len(network_input)-1)\n",
        "  start = idx\n",
        "\n",
        "  int_to_note = dict((number, note) for number, note in enumerate(pitchnames))\n",
        "\n",
        "  #pattern = network_input[start]\n",
        "  pattern = normalized_meloday_seq\n",
        "  prediction_output = []\n",
        "\n",
        "  # generate 500 notes\n",
        "  #for note_index in range(500):\n",
        "  for note_index in range(100):\n",
        "\n",
        "      prediction_input = numpy.reshape(pattern, (1, len(pattern), 1))\n",
        "      prediction_input = prediction_input / float(n_vocab)\n",
        "\n",
        "      prediction = model.predict(prediction_input, verbose=0)\n",
        "\n",
        "      index = numpy.argmax(prediction)\n",
        "      result = int_to_note[index]\n",
        "      prediction_output.append(result)\n",
        "\n",
        "      pattern.append(index)\n",
        "      pattern = pattern[1:len(pattern)]\n",
        "\n",
        "  return prediction_output, pattern\n",
        "\n",
        "\n",
        "def generate_from_melody(normalized_melody_seq, notes):\n",
        "  \"\"\" Generate a piano midi file \"\"\"\n",
        "  #load the notes used to train the model\n",
        "  #notes = get_notes()\n",
        "\n",
        "  # Get all pitch names\n",
        "  pitchnames = sorted(set(item for item in notes))\n",
        "  # Get all pitch names\n",
        "  n_vocab = len(set(notes))\n",
        "\n",
        "  network_input, normalized_input = prepare_sequences(notes, pitchnames, n_vocab)\n",
        "  model = create_network(normalized_input, n_vocab)\n",
        "  prediction_output, pattern = generate_notes(model, network_input, normalized_melody_seq, pitchnames, n_vocab)\n",
        "  create_midi(prediction_output)\n",
        "  \n",
        "  return pattern"
      ],
      "execution_count": 0,
      "outputs": []
    },
    {
      "metadata": {
        "id": "2l-pBqe7qYeu",
        "colab_type": "code",
        "colab": {
          "base_uri": "https://localhost:8080/",
          "height": 1581
        },
        "outputId": "f1a37ba8-caa1-4ec1-d7b3-a19c7f684b33"
      },
      "cell_type": "code",
      "source": [
        "notes = get_notes()"
      ],
      "execution_count": 11,
      "outputs": [
        {
          "output_type": "stream",
          "text": [
            "Parsing midi_songs/Still_Alive-1.mid\n",
            "Parsing midi_songs/sobf.mid\n",
            "Parsing midi_songs/ultimafro.mid\n",
            "Parsing midi_songs/Ff7-Jenova_Absolute.mid\n",
            "Parsing midi_songs/traitor.mid\n",
            "Parsing midi_songs/Oppressed.mid\n",
            "Parsing midi_songs/ff1battp.mid\n",
            "Parsing midi_songs/Cids.mid\n",
            "Parsing midi_songs/decisive.mid\n",
            "Parsing midi_songs/JENOVA.mid\n",
            "Parsing midi_songs/FFIXQuMarshP.mid\n",
            "Parsing midi_songs/caitsith.mid\n",
            "Parsing midi_songs/costadsol.mid\n",
            "Parsing midi_songs/redwings.mid\n",
            "Parsing midi_songs/FF3_Third_Phase_Final_(Piano).mid\n",
            "Parsing midi_songs/AT.mid\n",
            "Parsing midi_songs/Ff7-Cinco.mid\n",
            "Parsing midi_songs/Finalfantasy5gilgameshp.mid\n",
            "Parsing midi_songs/path_of_repentance.mid\n",
            "Parsing midi_songs/FFVII_BATTLE.mid\n",
            "Parsing midi_songs/Finalfantasy6fanfarecomplete.mid\n",
            "Parsing midi_songs/ff7-mainmidi.mid\n",
            "Parsing midi_songs/FFX_-_Ending_Theme_(Piano_Version)_-_by_Angel_FF.mid\n",
            "Parsing midi_songs/ahead_on_our_way_piano.mid\n",
            "Parsing midi_songs/Life_Stream.mid\n",
            "Parsing midi_songs/Eternal_Harvest.mid\n",
            "Parsing midi_songs/Suteki_Da_Ne_(Piano_Version).mid\n",
            "Parsing midi_songs/Kingdom_Hearts_Traverse_Town.mid\n",
            "Parsing midi_songs/OTD5YA.mid\n",
            "Parsing midi_songs/ff4-town.mid\n",
            "Parsing midi_songs/FF4.mid\n",
            "Parsing midi_songs/great_war.mid\n",
            "Parsing midi_songs/FFIX_Piano.mid\n",
            "Parsing midi_songs/cosmo.mid\n",
            "Parsing midi_songs/In_Zanarkand.mid\n",
            "Parsing midi_songs/pkelite4.mid\n",
            "Parsing midi_songs/ff4-fight1.mid\n",
            "Parsing midi_songs/FF6epitaph_piano.mid\n",
            "Parsing midi_songs/BlueStone_LastDungeon.mid\n",
            "Parsing midi_songs/waltz_de_choco.mid\n",
            "Parsing midi_songs/0fithos.mid\n",
            "Parsing midi_songs/dontbeafraid.mid\n",
            "Parsing midi_songs/ff4_piano_collections-main_theme.mid\n",
            "Parsing midi_songs/thenightmarebegins.mid\n",
            "Parsing midi_songs/ViviinAlexandria.mid\n",
            "Parsing midi_songs/tpirtsd-piano.mid\n",
            "Parsing midi_songs/VincentPiano.mid\n",
            "Parsing midi_songs/ff7themep.mid\n",
            "Parsing midi_songs/DOS.mid\n",
            "Parsing midi_songs/figaro.mid\n",
            "Parsing midi_songs/8.mid\n",
            "Parsing midi_songs/Fiend_Battle_(Piano).mid\n",
            "Parsing midi_songs/roseofmay-piano.mid\n",
            "Parsing midi_songs/thoughts.mid\n",
            "Parsing midi_songs/z_aeristhemepiano.mid\n",
            "Parsing midi_songs/Fyw_piano.mid\n",
            "Parsing midi_songs/Kingdom_Hearts_Dearly_Beloved.mid\n",
            "Parsing midi_songs/Ff4-BattleLust.mid\n",
            "Parsing midi_songs/Zelda_Overworld.mid\n",
            "Parsing midi_songs/relmstheme-piano.mid\n",
            "Parsing midi_songs/ff4-airship.mid\n",
            "Parsing midi_songs/ff4pclov.mid\n",
            "Parsing midi_songs/fortresscondor.mid\n",
            "Parsing midi_songs/braska.mid\n",
            "Parsing midi_songs/FF3_Battle_(Piano).mid\n",
            "Parsing midi_songs/EyesOnMePiano.mid\n",
            "Parsing midi_songs/Gold_Silver_Rival_Battle.mid\n",
            "Parsing midi_songs/mining.mid\n",
            "Parsing midi_songs/FF8_Shuffle_or_boogie_pc.mid\n",
            "Parsing midi_songs/HighwindTakestotheSkies.mid\n",
            "Parsing midi_songs/Ff7-One_Winged.mid\n",
            "Parsing midi_songs/tifap.mid\n",
            "Parsing midi_songs/bcm.mid\n",
            "Parsing midi_songs/lurk_in_dark.mid\n",
            "Parsing midi_songs/sandy.mid\n",
            "Parsing midi_songs/goldsaucer.mid\n",
            "Parsing midi_songs/gerudo.mid\n",
            "Parsing midi_songs/ff6shap.mid\n",
            "Parsing midi_songs/FFIII_Edgar_And_Sabin_Piano.mid\n",
            "Parsing midi_songs/Final_Fantasy_Matouyas_Cave_Piano.mid\n",
            "Parsing midi_songs/ultros.mid\n",
            "Parsing midi_songs/Rydia_pc.mid\n",
            "Parsing midi_songs/Fierce_Battle_(Piano).mid\n",
            "Parsing midi_songs/Rachel_Piano_tempofix.mid\n",
            "Parsing midi_songs/electric_de_chocobo.mid\n",
            "Parsing midi_songs/ff11_awakening_piano.mid\n",
            "Parsing midi_songs/balamb.mid\n",
            "Parsing midi_songs/sera_.mid\n",
            "Parsing midi_songs/rufus.mid\n",
            "Parsing midi_songs/ff8-lfp.mid\n",
            "Parsing midi_songs/Final_Fantasy_7_-_Judgement_Day_Piano.mid\n",
            "Parsing midi_songs/dayafter.mid\n"
          ],
          "name": "stdout"
        }
      ]
    },
    {
      "metadata": {
        "id": "8FDVnUD0qeBu",
        "colab_type": "code",
        "colab": {}
      },
      "cell_type": "code",
      "source": [
        "#pitchnames = sorted(set(item for item in notes))\n",
        "n_vocab = len(set(notes))\n",
        "input_sequences, output_sequences = prepare_sequences(notes, pitchnames, n_vocab)"
      ],
      "execution_count": 0,
      "outputs": []
    },
    {
      "metadata": {
        "id": "nDg4q_QsrGiF",
        "colab_type": "code",
        "colab": {}
      },
      "cell_type": "code",
      "source": [
        "preds = np.array(generate(0, notes))"
      ],
      "execution_count": 0,
      "outputs": []
    },
    {
      "metadata": {
        "id": "P_iOa25crd5G",
        "colab_type": "code",
        "colab": {
          "base_uri": "https://localhost:8080/",
          "height": 357
        },
        "outputId": "1ae81fb4-6eef-4d2c-b031-bdc841c3665f"
      },
      "cell_type": "code",
      "source": [
        "np.array(preds) / n_vocab"
      ],
      "execution_count": 18,
      "outputs": [
        {
          "output_type": "execute_result",
          "data": {
            "text/plain": [
              "array([0.88826816, 0.94413408, 0.94134078, 0.88826816, 0.82960894,\n",
              "       0.88826816, 0.88826816, 0.41899441, 0.88826816, 0.79608939,\n",
              "       0.79329609, 0.88826816, 0.94134078, 0.88826816, 0.82960894,\n",
              "       0.88826816, 0.94134078, 0.78212291, 0.82960894, 0.9273743 ,\n",
              "       0.92458101, 0.54748603, 0.92458101, 0.99441341, 0.84916201,\n",
              "       0.92458101, 0.44134078, 0.92458101, 0.85195531, 0.79329609,\n",
              "       0.92458101, 0.89106145, 0.99162011, 0.92458101, 0.84916201,\n",
              "       0.9273743 , 0.88826816, 0.92458101, 0.79608939, 0.79329609,\n",
              "       0.79608939, 0.79329609, 0.88826816, 0.94413408, 0.94134078,\n",
              "       0.88826816, 0.82960894, 0.88826816, 0.94134078, 0.88826816,\n",
              "       0.79329609, 0.88826816, 0.94134078, 0.88826816, 0.61731844,\n",
              "       0.32122905, 0.41899441, 0.88826816, 0.9273743 , 0.79329609,\n",
              "       0.88826816, 0.94413408, 0.94134078, 0.88826816, 0.82960894,\n",
              "       0.88826816, 0.94134078, 0.88826816, 0.79329609, 0.88826816,\n",
              "       0.94134078, 0.78212291, 0.61731844, 0.31005587, 0.41899441,\n",
              "       0.88826816, 0.9273743 , 0.79329609, 0.88826816, 0.94413408,\n",
              "       0.94134078, 0.88826816, 0.82960894, 0.89106145, 0.88826816,\n",
              "       0.41899441, 0.88826816, 0.79608939, 0.79329609, 0.88826816,\n",
              "       0.94134078, 0.88826816, 0.82960894, 0.88826816, 0.94134078,\n",
              "       0.78212291, 0.82960894, 0.9273743 , 0.92458101, 0.54748603])"
            ]
          },
          "metadata": {
            "tags": []
          },
          "execution_count": 18
        }
      ]
    },
    {
      "metadata": {
        "id": "3r0PwELvr3_X",
        "colab_type": "code",
        "colab": {}
      },
      "cell_type": "code",
      "source": [
        ""
      ],
      "execution_count": 0,
      "outputs": []
    },
    {
      "metadata": {
        "id": "7sXz0tettNt8",
        "colab_type": "text"
      },
      "cell_type": "markdown",
      "source": [
        "# Define Training Loop"
      ]
    },
    {
      "metadata": {
        "id": "PDaGZQN_tPP4",
        "colab_type": "code",
        "colab": {}
      },
      "cell_type": "code",
      "source": [
        "def transfer_style(input_melody, trained_model, prog_model, hparams):\n",
        "  \n",
        "  # Parse the dictionary of hyperparameters.\n",
        "  learning_rate = None\n",
        "  alpha = None\n",
        "  beta = None\n",
        "  epse = None\n",
        "  if not hparams['learning_rate']:\n",
        "    learning_rate = 0.01\n",
        "  else:\n",
        "    learning_rate = hparams['learning_rate']\n",
        "  if not hparams['alpha']:\n",
        "    alpha = 1.0\n",
        "  else:\n",
        "    alpha = hparams['alpha']\n",
        "  if not hparams['beta']:\n",
        "    beta = 1.0\n",
        "  else:\n",
        "    beta = hparams['beta']\n",
        "  if not hparams['eps']:\n",
        "    eps = 0.1\n",
        "  else:\n",
        "    eps = hparams['eps']:\n",
        "  \n",
        "  # Define some variables that will get updated.\n",
        "  vars_to_update = {}\n",
        "  \n",
        "  # Figure out which variables we will need to update.\n",
        "  for i in range(num_layers):\n",
        "    layer = prog_model.layers[i]\n",
        "    # Check if layer is LSTM or Dense\n",
        "    if not (str(type(layer) == \"<class 'keras.layers.recurrent.LSTM'>\")) and \\\n",
        "       not (str(type(layer) == \"<class 'keras.layers.core.Dense'>\")):\n",
        "      continue\n",
        "      \n",
        "    var_init = tf.constant(np.random.rand(layer.get_weights().shape))\n",
        "    vars_to_update['layer_' + str(i)] = tf.Variable(initial_value=var_init)\n",
        "\n",
        "  # Define the training loop.\n",
        "  last_tot_loss = 999999999999.99\n",
        "  output_sequence = None\n",
        "  with tf.Session() as sess:\n",
        "    satisfied = False\n",
        "    while not satisified:\n",
        "      # Generate an output sequence from the input sequence.\n",
        "      output_sequence = generate_from_melody(input_melody, notes)\n",
        "\n",
        "      # Pass input seq and output seq and two different models to total_loss.\n",
        "      tot_loss = total_loss(input_melody, output_sequence, trained_model, prog_model, alpha, beta)\n",
        "\n",
        "      # Update the weights in each layer of prog_model based on the total loss.\n",
        "      update_op = tf.trainRMSPropOptimizer(learning_rate) \\\n",
        "        .minimize(tot_loss, var_list=[vars_to_update.values])\n",
        "      \n",
        "      # Decide when we are satisfied.\n",
        "      satisfied = abs(last_tot_loss - tot_loss) < eps      \n",
        "\n",
        "  return output_sequence\n",
        "        "
      ],
      "execution_count": 0,
      "outputs": []
    },
    {
      "metadata": {
        "id": "HgkLhPWX6jvT",
        "colab_type": "text"
      },
      "cell_type": "markdown",
      "source": [
        "# Generate Input Melodies"
      ]
    }
  ]
}