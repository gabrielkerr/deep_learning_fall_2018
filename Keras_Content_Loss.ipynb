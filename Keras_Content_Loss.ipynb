{
  "nbformat": 4,
  "nbformat_minor": 0,
  "metadata": {
    "colab": {
      "name": "Keras Content Loss",
      "version": "0.3.2",
      "provenance": [],
      "collapsed_sections": [],
      "include_colab_link": true
    },
    "kernelspec": {
      "name": "python3",
      "display_name": "Python 3"
    },
    "accelerator": "GPU"
  },
  "cells": [
    {
      "cell_type": "markdown",
      "metadata": {
        "id": "view-in-github",
        "colab_type": "text"
      },
      "source": [
        "<a href=\"https://colab.research.google.com/github/gabrielkerr/deep_learning_fall_2018/blob/master/Keras_Content_Loss.ipynb\" target=\"_parent\"><img src=\"https://colab.research.google.com/assets/colab-badge.svg\" alt=\"Open In Colab\"/></a>"
      ]
    },
    {
      "metadata": {
        "id": "gS__2mB5kNo9",
        "colab_type": "text"
      },
      "cell_type": "markdown",
      "source": [
        "# Setup"
      ]
    },
    {
      "metadata": {
        "id": "VuUJi8fQXtQ6",
        "colab_type": "code",
        "colab": {
          "base_uri": "https://localhost:8080/",
          "height": 102
        },
        "outputId": "f3d7048e-4b4d-4b46-e15e-15a21093b8e2"
      },
      "cell_type": "code",
      "source": [
        "# Installing packages and cloning git repos\n",
        "!pip install music21\n",
        "!pip install h5py\n",
        "!git clone https://github.com/gabrielkerr/Classical-Piano-Composer.git"
      ],
      "execution_count": 1,
      "outputs": [
        {
          "output_type": "stream",
          "text": [
            "Requirement already satisfied: music21 in /usr/local/lib/python3.6/dist-packages (5.5.0)\n",
            "Requirement already satisfied: h5py in /usr/local/lib/python3.6/dist-packages (2.8.0)\n",
            "Requirement already satisfied: numpy>=1.7 in /usr/local/lib/python3.6/dist-packages (from h5py) (1.14.6)\n",
            "Requirement already satisfied: six in /usr/local/lib/python3.6/dist-packages (from h5py) (1.11.0)\n",
            "fatal: destination path 'Classical-Piano-Composer' already exists and is not an empty directory.\n"
          ],
          "name": "stdout"
        }
      ]
    },
    {
      "metadata": {
        "id": "wehMk7vjYCl1",
        "colab_type": "code",
        "colab": {}
      },
      "cell_type": "code",
      "source": [
        "# switch directories to the cloned repo with defined helper functions\n",
        "os.chdir('Classical-Piano-Composer')"
      ],
      "execution_count": 0,
      "outputs": []
    },
    {
      "metadata": {
        "id": "TicOlZcsX4ij",
        "colab_type": "code",
        "colab": {
          "base_uri": "https://localhost:8080/",
          "height": 34
        },
        "outputId": "d562aef9-411c-4f46-f053-0e0f2a50e39c"
      },
      "cell_type": "code",
      "source": [
        "# imports\n",
        "import keras\n",
        "from keras import backend as K\n",
        "import tensorflow as tf\n",
        "import music21\n",
        "import h5py\n",
        "import os\n",
        "from lstm import get_notes, prepare_sequences\n",
        "import numpy as np"
      ],
      "execution_count": 2,
      "outputs": [
        {
          "output_type": "stream",
          "text": [
            "Using TensorFlow backend.\n"
          ],
          "name": "stderr"
        }
      ]
    },
    {
      "metadata": {
        "id": "XTp3kiiWksCT",
        "colab_type": "text"
      },
      "cell_type": "markdown",
      "source": [
        "# Get Features"
      ]
    },
    {
      "metadata": {
        "id": "O3pFch7DZQai",
        "colab_type": "code",
        "colab": {
          "base_uri": "https://localhost:8080/",
          "height": 510
        },
        "outputId": "31d59bd9-73d3-40f1-a89d-e807ee2fc081"
      },
      "cell_type": "code",
      "source": [
        "# Get notes from Beethoven files\n",
        "notes = get_notes()"
      ],
      "execution_count": 5,
      "outputs": [
        {
          "output_type": "stream",
          "text": [
            "Parsing beeth/appass_3.mid\n",
            "Parsing beeth/mond_3.mid\n",
            "Parsing beeth/beethoven_hammerklavier_4.mid\n",
            "Parsing beeth/elise.mid\n",
            "Parsing beeth/beethoven_les_adieux_3.mid\n",
            "Parsing beeth/waldstein_1.mid\n",
            "Parsing beeth/beethoven_opus10_2.mid\n",
            "Parsing beeth/beethoven_opus22_2.mid\n",
            "Parsing beeth/beethoven_hammerklavier_1.mid\n",
            "Parsing beeth/beethoven_les_adieux_2.mid\n",
            "Parsing beeth/beethoven_opus90_1.mid\n",
            "Parsing beeth/waldstein_2.mid\n",
            "Parsing beeth/pathetique_1.mid\n",
            "Parsing beeth/beethoven_hammerklavier_2.mid\n",
            "Parsing beeth/pathetique_2.mid\n",
            "Parsing beeth/appass_1.mid\n",
            "Parsing beeth/beethoven_opus22_4.mid\n",
            "Parsing beeth/beethoven_opus22_3.mid\n",
            "Parsing beeth/appass_2.mid\n",
            "Parsing beeth/waldstein_3.mid\n",
            "Parsing beeth/mond_1.mid\n",
            "Parsing beeth/beethoven_opus22_1.mid\n",
            "Parsing beeth/beethoven_hammerklavier_3.mid\n",
            "Parsing beeth/beethoven_opus90_2.mid\n",
            "Parsing beeth/beethoven_opus10_1.mid\n",
            "Parsing beeth/beethoven_opus10_3.mid\n",
            "Parsing beeth/pathetique_3.mid\n",
            "Parsing beeth/beethoven_les_adieux_1.mid\n",
            "Parsing beeth/mond_2.mid\n"
          ],
          "name": "stdout"
        }
      ]
    },
    {
      "metadata": {
        "id": "J3bOkHmyZdL6",
        "colab_type": "code",
        "colab": {}
      },
      "cell_type": "code",
      "source": [
        "# Get count of unique \"vocabulary\" (notes)\n",
        "n_vocab = len(set(notes))"
      ],
      "execution_count": 0,
      "outputs": []
    },
    {
      "metadata": {
        "id": "R01airisZlmS",
        "colab_type": "code",
        "colab": {}
      },
      "cell_type": "code",
      "source": [
        "# Extract sequences of 100 notes from midis\n",
        "network_input, network_output = prepare_sequences(notes, n_vocab)"
      ],
      "execution_count": 0,
      "outputs": []
    },
    {
      "metadata": {
        "id": "jYMq-EU_k6wG",
        "colab_type": "text"
      },
      "cell_type": "markdown",
      "source": [
        "# Naive Loss Function\n",
        "\n",
        "Content loss is defined as the norm between `input_sequence` - `output_sequence`.\n",
        "\n",
        "Here we perform content loss between the 1st and 2nd input sequences to show functionality of the loss function, but ideally a sequence of 100 notes would be generated from the trained network and then compared with the input sequence."
      ]
    },
    {
      "metadata": {
        "id": "Bf5rwO6MZvj1",
        "colab_type": "code",
        "colab": {}
      },
      "cell_type": "code",
      "source": [
        "def content_loss(input_sequence, output_sequence):\n",
        "  return np.linalg.norm(input_sequence - output_sequence)"
      ],
      "execution_count": 0,
      "outputs": []
    },
    {
      "metadata": {
        "id": "Uj3SFCajbQHt",
        "colab_type": "code",
        "colab": {
          "base_uri": "https://localhost:8080/",
          "height": 34
        },
        "outputId": "98c6b19b-213c-4958-9f62-1c2bb45ec776"
      },
      "cell_type": "code",
      "source": [
        "content_loss(network_input[0], network_input[1])"
      ],
      "execution_count": 9,
      "outputs": [
        {
          "output_type": "execute_result",
          "data": {
            "text/plain": [
              "2.348897917869448"
            ]
          },
          "metadata": {
            "tags": []
          },
          "execution_count": 9
        }
      ]
    },
    {
      "metadata": {
        "id": "6VI48_46YG7g",
        "colab_type": "code",
        "colab": {}
      },
      "cell_type": "code",
      "source": [
        ""
      ],
      "execution_count": 0,
      "outputs": []
    },
    {
      "metadata": {
        "id": "A7fYa8VAcAiN",
        "colab_type": "code",
        "colab": {}
      },
      "cell_type": "code",
      "source": [
        "from keras.layers import LSTM, Dropout, Dense, Activation\n",
        "from keras import Sequential\n",
        "\n",
        "model = Sequential()\n",
        "model.add(LSTM(\n",
        "    512,\n",
        "    input_shape=(network_input.shape[1], network_input.shape[2]),\n",
        "    return_sequences=True\n",
        "))\n",
        "model.add(Dropout(0.3))\n",
        "model.add(LSTM(512, return_sequences=True))\n",
        "model.add(Dropout(0.3))\n",
        "model.add(LSTM(512))\n",
        "model.add(Dense(256))\n",
        "model.add(Dropout(0.3))\n",
        "model.add(Dense(359))\n",
        "model.add(Activation('softmax'))\n",
        "model.compile(loss='categorical_crossentropy', optimizer='rmsprop')\n",
        "# Load the weights to each node\n",
        "model.load_weights('weights.hdf5')"
      ],
      "execution_count": 0,
      "outputs": []
    },
    {
      "metadata": {
        "id": "KWYnTbazhzES",
        "colab_type": "code",
        "colab": {
          "base_uri": "https://localhost:8080/",
          "height": 34
        },
        "outputId": "e68fb0c5-7b0f-4b69-ff35-a46d79cdfb31"
      },
      "cell_type": "code",
      "source": [
        "len(model.get_weights()[0])"
      ],
      "execution_count": 11,
      "outputs": [
        {
          "output_type": "execute_result",
          "data": {
            "text/plain": [
              "359"
            ]
          },
          "metadata": {
            "tags": []
          },
          "execution_count": 11
        }
      ]
    },
    {
      "metadata": {
        "id": "H9jq7ojAquHu",
        "colab_type": "code",
        "colab": {
          "base_uri": "https://localhost:8080/",
          "height": 68
        },
        "outputId": "6398e12f-7e58-4a1d-cde9-6829fb79d762"
      },
      "cell_type": "code",
      "source": [
        "import tensorflow as tf\n",
        "with tf.Session() as sess:\n",
        "  init = tf.global_variables_initializer()\n",
        "  sess.run(init)\n",
        "  v = sess.run(model.weights[0])\n",
        "  print(v) \n",
        "  assign_op = model.weights[0].assign(np.zeros(v.shape))\n",
        "  sess.run(assign_op)\n",
        "  print(model.weights[0].eval())"
      ],
      "execution_count": 18,
      "outputs": [
        {
          "output_type": "stream",
          "text": [
            "[[ 0.01884716 -0.035212   -0.04476875 ... -0.03120076 -0.00696015\n",
            "  -0.01515903]]\n",
            "[[0. 0. 0. ... 0. 0. 0.]]\n"
          ],
          "name": "stdout"
        }
      ]
    },
    {
      "metadata": {
        "id": "q8g9piYCrCcU",
        "colab_type": "code",
        "colab": {}
      },
      "cell_type": "code",
      "source": [
        ""
      ],
      "execution_count": 0,
      "outputs": []
    }
  ]
}