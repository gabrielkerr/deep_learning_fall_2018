{
  "nbformat": 4,
  "nbformat_minor": 0,
  "metadata": {
    "colab": {
      "name": "Keras Content Loss",
      "version": "0.3.2",
      "provenance": [],
      "collapsed_sections": [],
      "include_colab_link": true
    },
    "kernelspec": {
      "name": "python3",
      "display_name": "Python 3"
    },
    "accelerator": "GPU"
  },
  "cells": [
    {
      "cell_type": "markdown",
      "metadata": {
        "id": "view-in-github",
        "colab_type": "text"
      },
      "source": [
        "<a href=\"https://colab.research.google.com/github/gabrielkerr/deep_learning_fall_2018/blob/master/Keras_Content_Loss.ipynb\" target=\"_parent\"><img src=\"https://colab.research.google.com/assets/colab-badge.svg\" alt=\"Open In Colab\"/></a>"
      ]
    },
    {
      "metadata": {
        "id": "gS__2mB5kNo9",
        "colab_type": "text"
      },
      "cell_type": "markdown",
      "source": [
        "# Setup"
      ]
    },
    {
      "metadata": {
        "id": "VuUJi8fQXtQ6",
        "colab_type": "code",
        "colab": {
          "base_uri": "https://localhost:8080/",
          "height": 306
        },
        "outputId": "c19bfe3d-7523-4f40-b130-153b16a1695a"
      },
      "cell_type": "code",
      "source": [
        "# Installing packages and cloning git repos\n",
        "!pip install music21\n",
        "!pip install h5py\n",
        "!git clone https://github.com/Skuldur/Classical-Piano-Composer.git"
      ],
      "execution_count": 1,
      "outputs": [
        {
          "output_type": "stream",
          "text": [
            "Collecting music21\n",
            "\u001b[?25l  Downloading https://files.pythonhosted.org/packages/81/de/5af13438e28b80b41e1db0d6f082204fadccd3b1d90c1951568d92df7c68/music21-5.5.0.tar.gz (18.5MB)\n",
            "\u001b[K    100% |████████████████████████████████| 18.5MB 1.7MB/s \n",
            "\u001b[?25hBuilding wheels for collected packages: music21\n",
            "  Running setup.py bdist_wheel for music21 ... \u001b[?25l-\b \b\\\b \b|\b \b/\b \b-\b \b\\\b \b|\b \b/\b \b-\b \b\\\b \b|\b \b/\b \b-\b \b\\\b \b|\b \b/\b \b-\b \b\\\b \b|\b \b/\b \b-\b \b\\\b \b|\b \b/\b \b-\b \b\\\b \b|\b \b/\b \b-\b \b\\\b \b|\b \b/\b \b-\b \b\\\b \b|\b \b/\b \b-\b \b\\\b \b|\b \b/\b \b-\b \b\\\b \b|\b \b/\b \b-\b \b\\\b \b|\b \b/\b \b-\b \b\\\b \b|\b \b/\b \b-\b \b\\\b \b|\b \b/\b \b-\b \b\\\b \b|\b \b/\b \b-\b \b\\\b \b|\b \b/\b \b-\b \b\\\b \b|\b \b/\b \b-\b \b\\\b \b|\b \b/\b \b-\b \b\\\b \b|\b \b/\b \b-\b \b\\\b \b|\b \b/\b \b-\b \b\\\b \b|\b \bdone\n",
            "\u001b[?25h  Stored in directory: /root/.cache/pip/wheels/7b/21/95/d396f231b8095f30aba2a1fbffbc2411fb22eb4e611ddbed57\n",
            "Successfully built music21\n",
            "Installing collected packages: music21\n",
            "Successfully installed music21-5.5.0\n",
            "Requirement already satisfied: h5py in /usr/local/lib/python3.6/dist-packages (2.8.0)\n",
            "Requirement already satisfied: numpy>=1.7 in /usr/local/lib/python3.6/dist-packages (from h5py) (1.14.6)\n",
            "Requirement already satisfied: six in /usr/local/lib/python3.6/dist-packages (from h5py) (1.11.0)\n",
            "Cloning into 'Classical-Piano-Composer'...\n",
            "remote: Enumerating objects: 150, done.\u001b[K\n",
            "remote: Total 150 (delta 0), reused 0 (delta 0), pack-reused 150\u001b[K\n",
            "Receiving objects: 100% (150/150), 117.92 MiB | 30.40 MiB/s, done.\n",
            "Resolving deltas: 100% (18/18), done.\n"
          ],
          "name": "stdout"
        }
      ]
    },
    {
      "metadata": {
        "id": "wehMk7vjYCl1",
        "colab_type": "code",
        "colab": {}
      },
      "cell_type": "code",
      "source": [
        "# switch directories to the cloned repo with defined helper functions\n",
        "import os\n",
        "os.chdir('Classical-Piano-Composer')"
      ],
      "execution_count": 0,
      "outputs": []
    },
    {
      "metadata": {
        "id": "TicOlZcsX4ij",
        "colab_type": "code",
        "colab": {
          "base_uri": "https://localhost:8080/",
          "height": 34
        },
        "outputId": "0da984dc-9881-4674-e3df-64a1d438b5de"
      },
      "cell_type": "code",
      "source": [
        "# imports\n",
        "import keras\n",
        "from keras import backend as K\n",
        "import tensorflow as tf\n",
        "import music21\n",
        "import h5py\n",
        "import os\n",
        "from lstm import get_notes, prepare_sequences\n",
        "import numpy as np"
      ],
      "execution_count": 4,
      "outputs": [
        {
          "output_type": "stream",
          "text": [
            "Using TensorFlow backend.\n"
          ],
          "name": "stderr"
        }
      ]
    },
    {
      "metadata": {
        "id": "XTp3kiiWksCT",
        "colab_type": "text"
      },
      "cell_type": "markdown",
      "source": [
        "# Get Features"
      ]
    },
    {
      "metadata": {
        "id": "O3pFch7DZQai",
        "colab_type": "code",
        "colab": {
          "base_uri": "https://localhost:8080/",
          "height": 1581
        },
        "outputId": "0ea55fb0-8acd-4c58-d0a2-57206a4a6203"
      },
      "cell_type": "code",
      "source": [
        "# Get notes from midi files\n",
        "notes = get_notes()"
      ],
      "execution_count": 5,
      "outputs": [
        {
          "output_type": "stream",
          "text": [
            "Parsing midi_songs/Kingdom_Hearts_Traverse_Town.mid\n",
            "Parsing midi_songs/ff4_piano_collections-main_theme.mid\n",
            "Parsing midi_songs/sera_.mid\n",
            "Parsing midi_songs/Eternal_Harvest.mid\n",
            "Parsing midi_songs/ff4-airship.mid\n",
            "Parsing midi_songs/great_war.mid\n",
            "Parsing midi_songs/relmstheme-piano.mid\n",
            "Parsing midi_songs/ff4-fight1.mid\n",
            "Parsing midi_songs/ff1battp.mid\n",
            "Parsing midi_songs/electric_de_chocobo.mid\n",
            "Parsing midi_songs/roseofmay-piano.mid\n",
            "Parsing midi_songs/ultimafro.mid\n",
            "Parsing midi_songs/FF4.mid\n",
            "Parsing midi_songs/ViviinAlexandria.mid\n",
            "Parsing midi_songs/pkelite4.mid\n",
            "Parsing midi_songs/In_Zanarkand.mid\n",
            "Parsing midi_songs/Ff7-One_Winged.mid\n",
            "Parsing midi_songs/FF6epitaph_piano.mid\n",
            "Parsing midi_songs/Life_Stream.mid\n",
            "Parsing midi_songs/mining.mid\n",
            "Parsing midi_songs/Final_Fantasy_7_-_Judgement_Day_Piano.mid\n",
            "Parsing midi_songs/z_aeristhemepiano.mid\n",
            "Parsing midi_songs/bcm.mid\n",
            "Parsing midi_songs/VincentPiano.mid\n",
            "Parsing midi_songs/Still_Alive-1.mid\n",
            "Parsing midi_songs/ff7-mainmidi.mid\n",
            "Parsing midi_songs/tifap.mid\n",
            "Parsing midi_songs/dayafter.mid\n",
            "Parsing midi_songs/DOS.mid\n",
            "Parsing midi_songs/ultros.mid\n",
            "Parsing midi_songs/lurk_in_dark.mid\n",
            "Parsing midi_songs/figaro.mid\n",
            "Parsing midi_songs/Zelda_Overworld.mid\n",
            "Parsing midi_songs/dontbeafraid.mid\n",
            "Parsing midi_songs/8.mid\n",
            "Parsing midi_songs/AT.mid\n",
            "Parsing midi_songs/tpirtsd-piano.mid\n",
            "Parsing midi_songs/ff4-town.mid\n",
            "Parsing midi_songs/Finalfantasy5gilgameshp.mid\n",
            "Parsing midi_songs/EyesOnMePiano.mid\n",
            "Parsing midi_songs/waltz_de_choco.mid\n",
            "Parsing midi_songs/Oppressed.mid\n",
            "Parsing midi_songs/braska.mid\n",
            "Parsing midi_songs/ff11_awakening_piano.mid\n",
            "Parsing midi_songs/Ff7-Cinco.mid\n",
            "Parsing midi_songs/Fiend_Battle_(Piano).mid\n",
            "Parsing midi_songs/0fithos.mid\n",
            "Parsing midi_songs/FFVII_BATTLE.mid\n",
            "Parsing midi_songs/JENOVA.mid\n",
            "Parsing midi_songs/path_of_repentance.mid\n",
            "Parsing midi_songs/sandy.mid\n",
            "Parsing midi_songs/ff8-lfp.mid\n",
            "Parsing midi_songs/FF3_Third_Phase_Final_(Piano).mid\n",
            "Parsing midi_songs/traitor.mid\n",
            "Parsing midi_songs/Rachel_Piano_tempofix.mid\n",
            "Parsing midi_songs/Suteki_Da_Ne_(Piano_Version).mid\n",
            "Parsing midi_songs/caitsith.mid\n",
            "Parsing midi_songs/HighwindTakestotheSkies.mid\n",
            "Parsing midi_songs/redwings.mid\n",
            "Parsing midi_songs/decisive.mid\n",
            "Parsing midi_songs/ff4pclov.mid\n",
            "Parsing midi_songs/ff6shap.mid\n",
            "Parsing midi_songs/FFIXQuMarshP.mid\n",
            "Parsing midi_songs/FF8_Shuffle_or_boogie_pc.mid\n",
            "Parsing midi_songs/goldsaucer.mid\n",
            "Parsing midi_songs/Ff7-Jenova_Absolute.mid\n",
            "Parsing midi_songs/Fierce_Battle_(Piano).mid\n",
            "Parsing midi_songs/Kingdom_Hearts_Dearly_Beloved.mid\n",
            "Parsing midi_songs/Rydia_pc.mid\n",
            "Parsing midi_songs/Cids.mid\n",
            "Parsing midi_songs/FFX_-_Ending_Theme_(Piano_Version)_-_by_Angel_FF.mid\n",
            "Parsing midi_songs/ff7themep.mid\n",
            "Parsing midi_songs/FFIX_Piano.mid\n",
            "Parsing midi_songs/Ff4-BattleLust.mid\n",
            "Parsing midi_songs/balamb.mid\n",
            "Parsing midi_songs/BlueStone_LastDungeon.mid\n",
            "Parsing midi_songs/FF3_Battle_(Piano).mid\n",
            "Parsing midi_songs/sobf.mid\n",
            "Parsing midi_songs/cosmo.mid\n",
            "Parsing midi_songs/fortresscondor.mid\n",
            "Parsing midi_songs/FFIII_Edgar_And_Sabin_Piano.mid\n",
            "Parsing midi_songs/gerudo.mid\n",
            "Parsing midi_songs/Final_Fantasy_Matouyas_Cave_Piano.mid\n",
            "Parsing midi_songs/rufus.mid\n",
            "Parsing midi_songs/thoughts.mid\n",
            "Parsing midi_songs/thenightmarebegins.mid\n",
            "Parsing midi_songs/costadsol.mid\n",
            "Parsing midi_songs/ahead_on_our_way_piano.mid\n",
            "Parsing midi_songs/OTD5YA.mid\n",
            "Parsing midi_songs/Fyw_piano.mid\n",
            "Parsing midi_songs/Finalfantasy6fanfarecomplete.mid\n",
            "Parsing midi_songs/Gold_Silver_Rival_Battle.mid\n"
          ],
          "name": "stdout"
        }
      ]
    },
    {
      "metadata": {
        "id": "J3bOkHmyZdL6",
        "colab_type": "code",
        "colab": {}
      },
      "cell_type": "code",
      "source": [
        "# Get count of unique \"vocabulary\" (notes)\n",
        "n_vocab = len(set(notes))"
      ],
      "execution_count": 0,
      "outputs": []
    },
    {
      "metadata": {
        "id": "R01airisZlmS",
        "colab_type": "code",
        "colab": {}
      },
      "cell_type": "code",
      "source": [
        "# Extract sequences of 100 notes from midis\n",
        "network_input, network_output = prepare_sequences(notes, n_vocab)"
      ],
      "execution_count": 0,
      "outputs": []
    },
    {
      "metadata": {
        "id": "jYMq-EU_k6wG",
        "colab_type": "text"
      },
      "cell_type": "markdown",
      "source": [
        "# Naive Loss Function\n",
        "\n",
        "Content loss is defined as the norm between `input_sequence` - `output_sequence`.\n",
        "\n",
        "Here we perform content loss between the 1st and 2nd input sequences to show functionality of the loss function, but ideally a sequence of 100 notes would be generated from the trained network and then compared with the input sequence."
      ]
    },
    {
      "metadata": {
        "id": "Bf5rwO6MZvj1",
        "colab_type": "code",
        "colab": {}
      },
      "cell_type": "code",
      "source": [
        "def content_loss(input_sequence, output_sequence):\n",
        "  return np.linalg.norm(input_sequence - output_sequence)"
      ],
      "execution_count": 0,
      "outputs": []
    },
    {
      "metadata": {
        "id": "Uj3SFCajbQHt",
        "colab_type": "code",
        "colab": {
          "base_uri": "https://localhost:8080/",
          "height": 34
        },
        "outputId": "40430df1-d8b9-4d6d-e7c9-a0e201976f8b"
      },
      "cell_type": "code",
      "source": [
        "content_loss(network_input[0], network_input[1])"
      ],
      "execution_count": 29,
      "outputs": [
        {
          "output_type": "execute_result",
          "data": {
            "text/plain": [
              "4.154247546068616"
            ]
          },
          "metadata": {
            "tags": []
          },
          "execution_count": 29
        }
      ]
    },
    {
      "metadata": {
        "colab_type": "code",
        "id": "nXfT4nDwqtEe",
        "colab": {}
      },
      "cell_type": "code",
      "source": [
        "\"\"\" This module generates notes for a midi file using the\n",
        "  trained neural network \"\"\"\n",
        "import pickle\n",
        "import numpy\n",
        "from music21 import instrument, note, stream, chord\n",
        "from keras.models import Sequential\n",
        "from keras.layers import Dense\n",
        "from keras.layers import Dropout\n",
        "from keras.layers import LSTM\n",
        "from keras.layers import Activation\n",
        "\n",
        "def generate(idx):\n",
        "  \"\"\" Generate a piano midi file \"\"\"\n",
        "  #load the notes used to train the model\n",
        "  notes = get_notes()\n",
        "\n",
        "  # Get all pitch names\n",
        "  pitchnames = sorted(set(item for item in notes))\n",
        "  # Get all pitch names\n",
        "  n_vocab = len(set(notes))\n",
        "\n",
        "  network_input, normalized_input = prepare_sequences(notes, pitchnames, n_vocab)\n",
        "  model = create_network(normalized_input, n_vocab)\n",
        "  prediction_output, pattern = generate_notes(model, network_input, idx, pitchnames, n_vocab)\n",
        "  create_midi(prediction_output)\n",
        "  \n",
        "  return pattern\n",
        "\n",
        "\n",
        "def prepare_sequences(notes, pitchnames, n_vocab):\n",
        "  \"\"\" Prepare the sequences used by the Neural Network \"\"\"\n",
        "  # map between notes and integers and back\n",
        "  note_to_int = dict((note, number) for number, note in enumerate(pitchnames))\n",
        "\n",
        "  sequence_length = 100\n",
        "  network_input = []\n",
        "  output = []\n",
        "  for i in range(0, len(notes) - sequence_length, 1):\n",
        "      sequence_in = notes[i:i + sequence_length]\n",
        "      sequence_out = notes[i + sequence_length]\n",
        "      network_input.append([note_to_int[char] for char in sequence_in])\n",
        "      output.append(note_to_int[sequence_out])\n",
        "\n",
        "  n_patterns = len(network_input)\n",
        "\n",
        "  # reshape the input into a format compatible with LSTM layers\n",
        "  normalized_input = numpy.reshape(network_input, (n_patterns, sequence_length, 1))\n",
        "  # normalize input\n",
        "  normalized_input = normalized_input / float(n_vocab)\n",
        "\n",
        "  return (network_input, normalized_input)\n",
        "\n",
        "def create_network(network_input, n_vocab):\n",
        "  \"\"\" create the structure of the neural network \"\"\"\n",
        "  model = Sequential()\n",
        "  model.add(LSTM(\n",
        "      512,\n",
        "      input_shape=(network_input.shape[1], network_input.shape[2]),\n",
        "      return_sequences=True\n",
        "  ))\n",
        "  model.add(Dropout(0.3))\n",
        "  model.add(LSTM(512, return_sequences=True))\n",
        "  model.add(Dropout(0.3))\n",
        "  model.add(LSTM(512))\n",
        "  model.add(Dense(256))\n",
        "  model.add(Dropout(0.3))\n",
        "  model.add(Dense(n_vocab+1))\n",
        "  model.add(Activation('softmax'))\n",
        "  model.compile(loss='categorical_crossentropy', optimizer='rmsprop')\n",
        "\n",
        "  # Load the weights to each node\n",
        "  model.load_weights('new_weights.hdf5')\n",
        "\n",
        "  return model\n",
        "\n",
        "def generate_notes(model, network_input, idx, pitchnames, n_vocab):\n",
        "  \"\"\" Generate notes from the neural network based on a sequence of notes \"\"\"\n",
        "  # pick a random sequence from the input as a starting point for the prediction\n",
        "  #start = numpy.random.randint(0, len(network_input)-1)\n",
        "  start = idx\n",
        "\n",
        "  int_to_note = dict((number, note) for number, note in enumerate(pitchnames))\n",
        "\n",
        "  pattern = network_input[start]\n",
        "  prediction_output = []\n",
        "\n",
        "  # generate 500 notes\n",
        "  #for note_index in range(500):\n",
        "  for note_index in range(100):\n",
        "\n",
        "      prediction_input = numpy.reshape(pattern, (1, len(pattern), 1))\n",
        "      prediction_input = prediction_input / float(n_vocab)\n",
        "\n",
        "      prediction = model.predict(prediction_input, verbose=0)\n",
        "\n",
        "      index = numpy.argmax(prediction)\n",
        "      result = int_to_note[index]\n",
        "      prediction_output.append(result)\n",
        "\n",
        "      pattern.append(index)\n",
        "      pattern = pattern[1:len(pattern)]\n",
        "\n",
        "  return prediction_output, pattern\n",
        "\n",
        "def create_midi(prediction_output):\n",
        "  \"\"\" convert the output from the prediction to notes and create a midi file\n",
        "      from the notes \"\"\"\n",
        "  offset = 0\n",
        "  output_notes = []\n",
        "\n",
        "  # create note and chord objects based on the values generated by the model\n",
        "  for pattern in prediction_output:\n",
        "      # pattern is a chord\n",
        "      if ('.' in pattern) or pattern.isdigit():\n",
        "          notes_in_chord = pattern.split('.')\n",
        "          notes = []\n",
        "          for current_note in notes_in_chord:\n",
        "              new_note = note.Note(int(current_note))\n",
        "              new_note.storedInstrument = instrument.Piano()\n",
        "              notes.append(new_note)\n",
        "          new_chord = chord.Chord(notes)\n",
        "          new_chord.offset = offset\n",
        "          output_notes.append(new_chord)\n",
        "      # pattern is a note\n",
        "      else:\n",
        "          new_note = note.Note(pattern)\n",
        "          new_note.offset = offset\n",
        "          new_note.storedInstrument = instrument.Piano()\n",
        "          output_notes.append(new_note)\n",
        "\n",
        "      # increase offset each iteration so that notes do not stack\n",
        "      offset += 0.5\n",
        "\n",
        "  midi_stream = stream.Stream(output_notes)\n",
        "\n",
        "  midi_stream.write('midi', fp='test_output.mid')"
      ],
      "execution_count": 0,
      "outputs": []
    },
    {
      "metadata": {
        "colab_type": "code",
        "id": "xRuad7O_qs9L",
        "colab": {
          "base_uri": "https://localhost:8080/",
          "height": 1581
        },
        "outputId": "8392576b-7b2b-4ee8-c8e4-2fd8f32aab27"
      },
      "cell_type": "code",
      "source": [
        "preds = generate(0)"
      ],
      "execution_count": 65,
      "outputs": [
        {
          "output_type": "stream",
          "text": [
            "Parsing midi_songs/Kingdom_Hearts_Traverse_Town.mid\n",
            "Parsing midi_songs/ff4_piano_collections-main_theme.mid\n",
            "Parsing midi_songs/sera_.mid\n",
            "Parsing midi_songs/Eternal_Harvest.mid\n",
            "Parsing midi_songs/ff4-airship.mid\n",
            "Parsing midi_songs/great_war.mid\n",
            "Parsing midi_songs/relmstheme-piano.mid\n",
            "Parsing midi_songs/ff4-fight1.mid\n",
            "Parsing midi_songs/ff1battp.mid\n",
            "Parsing midi_songs/electric_de_chocobo.mid\n",
            "Parsing midi_songs/roseofmay-piano.mid\n",
            "Parsing midi_songs/ultimafro.mid\n",
            "Parsing midi_songs/FF4.mid\n",
            "Parsing midi_songs/ViviinAlexandria.mid\n",
            "Parsing midi_songs/pkelite4.mid\n",
            "Parsing midi_songs/In_Zanarkand.mid\n",
            "Parsing midi_songs/Ff7-One_Winged.mid\n",
            "Parsing midi_songs/FF6epitaph_piano.mid\n",
            "Parsing midi_songs/Life_Stream.mid\n",
            "Parsing midi_songs/mining.mid\n",
            "Parsing midi_songs/Final_Fantasy_7_-_Judgement_Day_Piano.mid\n",
            "Parsing midi_songs/z_aeristhemepiano.mid\n",
            "Parsing midi_songs/bcm.mid\n",
            "Parsing midi_songs/VincentPiano.mid\n",
            "Parsing midi_songs/Still_Alive-1.mid\n",
            "Parsing midi_songs/ff7-mainmidi.mid\n",
            "Parsing midi_songs/tifap.mid\n",
            "Parsing midi_songs/dayafter.mid\n",
            "Parsing midi_songs/DOS.mid\n",
            "Parsing midi_songs/ultros.mid\n",
            "Parsing midi_songs/lurk_in_dark.mid\n",
            "Parsing midi_songs/figaro.mid\n",
            "Parsing midi_songs/Zelda_Overworld.mid\n",
            "Parsing midi_songs/dontbeafraid.mid\n",
            "Parsing midi_songs/8.mid\n",
            "Parsing midi_songs/AT.mid\n",
            "Parsing midi_songs/tpirtsd-piano.mid\n",
            "Parsing midi_songs/ff4-town.mid\n",
            "Parsing midi_songs/Finalfantasy5gilgameshp.mid\n",
            "Parsing midi_songs/EyesOnMePiano.mid\n",
            "Parsing midi_songs/waltz_de_choco.mid\n",
            "Parsing midi_songs/Oppressed.mid\n",
            "Parsing midi_songs/braska.mid\n",
            "Parsing midi_songs/ff11_awakening_piano.mid\n",
            "Parsing midi_songs/Ff7-Cinco.mid\n",
            "Parsing midi_songs/Fiend_Battle_(Piano).mid\n",
            "Parsing midi_songs/0fithos.mid\n",
            "Parsing midi_songs/FFVII_BATTLE.mid\n",
            "Parsing midi_songs/JENOVA.mid\n",
            "Parsing midi_songs/path_of_repentance.mid\n",
            "Parsing midi_songs/sandy.mid\n",
            "Parsing midi_songs/ff8-lfp.mid\n",
            "Parsing midi_songs/FF3_Third_Phase_Final_(Piano).mid\n",
            "Parsing midi_songs/traitor.mid\n",
            "Parsing midi_songs/Rachel_Piano_tempofix.mid\n",
            "Parsing midi_songs/Suteki_Da_Ne_(Piano_Version).mid\n",
            "Parsing midi_songs/caitsith.mid\n",
            "Parsing midi_songs/HighwindTakestotheSkies.mid\n",
            "Parsing midi_songs/redwings.mid\n",
            "Parsing midi_songs/decisive.mid\n",
            "Parsing midi_songs/ff4pclov.mid\n",
            "Parsing midi_songs/ff6shap.mid\n",
            "Parsing midi_songs/FFIXQuMarshP.mid\n",
            "Parsing midi_songs/FF8_Shuffle_or_boogie_pc.mid\n",
            "Parsing midi_songs/goldsaucer.mid\n",
            "Parsing midi_songs/Ff7-Jenova_Absolute.mid\n",
            "Parsing midi_songs/Fierce_Battle_(Piano).mid\n",
            "Parsing midi_songs/Kingdom_Hearts_Dearly_Beloved.mid\n",
            "Parsing midi_songs/Rydia_pc.mid\n",
            "Parsing midi_songs/Cids.mid\n",
            "Parsing midi_songs/FFX_-_Ending_Theme_(Piano_Version)_-_by_Angel_FF.mid\n",
            "Parsing midi_songs/ff7themep.mid\n",
            "Parsing midi_songs/FFIX_Piano.mid\n",
            "Parsing midi_songs/Ff4-BattleLust.mid\n",
            "Parsing midi_songs/balamb.mid\n",
            "Parsing midi_songs/BlueStone_LastDungeon.mid\n",
            "Parsing midi_songs/FF3_Battle_(Piano).mid\n",
            "Parsing midi_songs/sobf.mid\n",
            "Parsing midi_songs/cosmo.mid\n",
            "Parsing midi_songs/fortresscondor.mid\n",
            "Parsing midi_songs/FFIII_Edgar_And_Sabin_Piano.mid\n",
            "Parsing midi_songs/gerudo.mid\n",
            "Parsing midi_songs/Final_Fantasy_Matouyas_Cave_Piano.mid\n",
            "Parsing midi_songs/rufus.mid\n",
            "Parsing midi_songs/thoughts.mid\n",
            "Parsing midi_songs/thenightmarebegins.mid\n",
            "Parsing midi_songs/costadsol.mid\n",
            "Parsing midi_songs/ahead_on_our_way_piano.mid\n",
            "Parsing midi_songs/OTD5YA.mid\n",
            "Parsing midi_songs/Fyw_piano.mid\n",
            "Parsing midi_songs/Finalfantasy6fanfarecomplete.mid\n",
            "Parsing midi_songs/Gold_Silver_Rival_Battle.mid\n"
          ],
          "name": "stdout"
        }
      ]
    },
    {
      "metadata": {
        "colab_type": "code",
        "id": "HGKkdkrYqsyl",
        "colab": {
          "base_uri": "https://localhost:8080/",
          "height": 34
        },
        "outputId": "dc026970-d357-4ba8-8664-e9b9ac3922c3"
      },
      "cell_type": "code",
      "source": [
        "# Content loss between normalized generated sequence and normalized input sequence\n",
        "content_loss(network_input[0], np.array(preds)[:100]/n_vocab)\n"
      ],
      "execution_count": 68,
      "outputs": [
        {
          "output_type": "execute_result",
          "data": {
            "text/plain": [
              "37.62260100803737"
            ]
          },
          "metadata": {
            "tags": []
          },
          "execution_count": 68
        }
      ]
    },
    {
      "metadata": {
        "colab_type": "code",
        "id": "7jVOlQLEqt28",
        "colab": {}
      },
      "cell_type": "code",
      "source": [
        "# Load trained model\n",
        "from keras.layers import LSTM, Dropout, Dense, Activation\n",
        "from keras import Sequential\n",
        "\n",
        "model = Sequential()\n",
        "model.add(LSTM(\n",
        "    512,\n",
        "    input_shape=(network_input.shape[1], network_input.shape[2]),\n",
        "    return_sequences=True\n",
        "))\n",
        "model.add(Dropout(0.3))\n",
        "model.add(LSTM(512, return_sequences=True))\n",
        "model.add(Dropout(0.3))\n",
        "model.add(LSTM(512))\n",
        "model.add(Dense(256))\n",
        "model.add(Dropout(0.3))\n",
        "model.add(Dense(n_vocab))\n",
        "model.add(Activation('softmax'))\n",
        "model.compile(loss='categorical_crossentropy', optimizer='rmsprop')\n",
        "# Load the weights to each node\n",
        "model.load_weights('new_weights.hdf5')"
      ],
      "execution_count": 0,
      "outputs": []
    },
    {
      "metadata": {
        "id": "KWYnTbazhzES",
        "colab_type": "code",
        "colab": {
          "base_uri": "https://localhost:8080/",
          "height": 34
        },
        "outputId": "e68fb0c5-7b0f-4b69-ff35-a46d79cdfb31"
      },
      "cell_type": "code",
      "source": [
        "len(model.get_weights()[0])"
      ],
      "execution_count": 11,
      "outputs": [
        {
          "output_type": "execute_result",
          "data": {
            "text/plain": [
              "359"
            ]
          },
          "metadata": {
            "tags": []
          },
          "execution_count": 11
        }
      ]
    },
    {
      "metadata": {
        "id": "H9jq7ojAquHu",
        "colab_type": "code",
        "colab": {
          "base_uri": "https://localhost:8080/",
          "height": 68
        },
        "outputId": "6398e12f-7e58-4a1d-cde9-6829fb79d762"
      },
      "cell_type": "code",
      "source": [
        "import tensorflow as tf\n",
        "with tf.Session() as sess:\n",
        "  init = tf.global_variables_initializer()\n",
        "  sess.run(init)\n",
        "  v = sess.run(model.weights[0])\n",
        "  print(v) \n",
        "  assign_op = model.weights[0].assign(np.zeros(v.shape))\n",
        "  sess.run(assign_op)\n",
        "  print(model.weights[0].eval())"
      ],
      "execution_count": 18,
      "outputs": [
        {
          "output_type": "stream",
          "text": [
            "[[ 0.01884716 -0.035212   -0.04476875 ... -0.03120076 -0.00696015\n",
            "  -0.01515903]]\n",
            "[[0. 0. 0. ... 0. 0. 0.]]\n"
          ],
          "name": "stdout"
        }
      ]
    },
    {
      "metadata": {
        "id": "q8g9piYCrCcU",
        "colab_type": "code",
        "colab": {}
      },
      "cell_type": "code",
      "source": [
        ""
      ],
      "execution_count": 0,
      "outputs": []
    }
  ]
}