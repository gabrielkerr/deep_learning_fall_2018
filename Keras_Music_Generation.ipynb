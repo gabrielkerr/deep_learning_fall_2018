{
  "nbformat": 4,
  "nbformat_minor": 0,
  "metadata": {
    "colab": {
      "name": "Keras Music Generation",
      "version": "0.3.2",
      "provenance": [],
      "collapsed_sections": [],
      "include_colab_link": true
    },
    "kernelspec": {
      "name": "python3",
      "display_name": "Python 3"
    },
    "accelerator": "GPU"
  },
  "cells": [
    {
      "cell_type": "markdown",
      "metadata": {
        "id": "view-in-github",
        "colab_type": "text"
      },
      "source": [
        "<a href=\"https://colab.research.google.com/github/gabrielkerr/deep_learning_fall_2018/blob/master/Keras_Music_Generation.ipynb\" target=\"_parent\"><img src=\"https://colab.research.google.com/assets/colab-badge.svg\" alt=\"Open In Colab\"/></a>"
      ]
    },
    {
      "metadata": {
        "id": "JGLo7hfMJQjA",
        "colab_type": "code",
        "outputId": "75d24c4f-c04f-4b8c-f90b-d4480c410558",
        "colab": {
          "base_uri": "https://localhost:8080/",
          "height": 204
        }
      },
      "cell_type": "code",
      "source": [
        "!pip install music21\n",
        "!pip install h5py\n",
        "!git clone https://github.com/gabrielkerr/Classical-Piano-Composer.git"
      ],
      "execution_count": 6,
      "outputs": [
        {
          "output_type": "stream",
          "text": [
            "Requirement already satisfied: music21 in /usr/local/lib/python3.6/dist-packages (5.5.0)\n",
            "Requirement already satisfied: h5py in /usr/local/lib/python3.6/dist-packages (2.8.0)\n",
            "Requirement already satisfied: six in /usr/local/lib/python3.6/dist-packages (from h5py) (1.11.0)\n",
            "Requirement already satisfied: numpy>=1.7 in /usr/local/lib/python3.6/dist-packages (from h5py) (1.14.6)\n",
            "Cloning into 'Classical-Piano-Composer'...\n",
            "remote: Enumerating objects: 35, done.\u001b[K\n",
            "remote: Counting objects: 100% (35/35), done.\u001b[K\n",
            "remote: Compressing objects: 100% (34/34), done.\u001b[K\n",
            "remote: Total 185 (delta 1), reused 33 (delta 1), pack-reused 150\u001b[K\n",
            "Receiving objects: 100% (185/185), 118.25 MiB | 26.24 MiB/s, done.\n",
            "Resolving deltas: 100% (19/19), done.\n"
          ],
          "name": "stdout"
        }
      ]
    },
    {
      "metadata": {
        "id": "6bXjoSmZJzku",
        "colab_type": "code",
        "colab": {}
      },
      "cell_type": "code",
      "source": [
        "import keras\n",
        "from keras import backend as K\n",
        "import tensorflow as tf\n",
        "import music21\n",
        "import h5py\n",
        "import os"
      ],
      "execution_count": 0,
      "outputs": []
    },
    {
      "metadata": {
        "id": "td4Wp-TfJv8h",
        "colab_type": "code",
        "outputId": "a3a1f2c9-8194-422c-d5a8-a0f2ee8be883",
        "colab": {
          "base_uri": "https://localhost:8080/",
          "height": 34
        }
      },
      "cell_type": "code",
      "source": [
        "# Make sure Keras is using GPU...\n",
        "print(K.tensorflow_backend._get_available_gpus())"
      ],
      "execution_count": 9,
      "outputs": [
        {
          "output_type": "stream",
          "text": [
            "['/job:localhost/replica:0/task:0/device:GPU:0']\n"
          ],
          "name": "stdout"
        }
      ]
    },
    {
      "metadata": {
        "id": "cSLip73kKYf3",
        "colab_type": "code",
        "colab": {}
      },
      "cell_type": "code",
      "source": [
        "os.chdir('Classical-Piano-Composer')"
      ],
      "execution_count": 0,
      "outputs": []
    },
    {
      "metadata": {
        "id": "yBg8xjNHOQCv",
        "colab_type": "code",
        "outputId": "05e3749b-2254-4bf8-ce45-69bb42b096fd",
        "colab": {
          "base_uri": "https://localhost:8080/",
          "height": 386
        }
      },
      "cell_type": "code",
      "source": [
        "!python lstm.py"
      ],
      "execution_count": 0,
      "outputs": [
        {
          "output_type": "stream",
          "text": [
            "Using TensorFlow backend.\n",
            "Parsing beeth/appass_3.mid\n",
            "Parsing beeth/mond_3.mid\n",
            "Parsing beeth/beethoven_hammerklavier_4.mid\n",
            "Parsing beeth/elise.mid\n",
            "Parsing beeth/beethoven_les_adieux_3.mid\n",
            "Parsing beeth/waldstein_1.mid\n",
            "Parsing beeth/beethoven_opus10_2.mid\n",
            "Parsing beeth/beethoven_opus22_2.mid\n",
            "Parsing beeth/beethoven_hammerklavier_1.mid\n",
            "Parsing beeth/beethoven_les_adieux_2.mid\n",
            "Parsing beeth/beethoven_opus90_1.mid\n",
            "Parsing beeth/waldstein_2.mid\n",
            "Parsing beeth/pathetique_1.mid\n",
            "Parsing beeth/beethoven_hammerklavier_2.mid\n",
            "Parsing beeth/pathetique_2.mid\n",
            "Parsing beeth/appass_1.mid\n",
            "Parsing beeth/beethoven_opus22_4.mid\n",
            "Parsing beeth/beethoven_opus22_3.mid\n",
            "Parsing beeth/appass_2.mid\n"
          ],
          "name": "stdout"
        }
      ]
    },
    {
      "metadata": {
        "id": "Yu02DLeNOYJ_",
        "colab_type": "code",
        "colab": {}
      },
      "cell_type": "code",
      "source": [
        ""
      ],
      "execution_count": 0,
      "outputs": []
    }
  ]
}