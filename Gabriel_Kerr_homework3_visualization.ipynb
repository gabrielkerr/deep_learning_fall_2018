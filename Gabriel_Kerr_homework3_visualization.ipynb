{
  "nbformat": 4,
  "nbformat_minor": 0,
  "metadata": {
    "colab": {
      "name": "Gabriel Kerr - homework3_visualization.ipynb",
      "version": "0.3.2",
      "provenance": [],
      "collapsed_sections": [],
      "include_colab_link": true
    },
    "kernelspec": {
      "name": "python3",
      "display_name": "Python 3"
    },
    "accelerator": "GPU"
  },
  "cells": [
    {
      "cell_type": "markdown",
      "metadata": {
        "id": "view-in-github",
        "colab_type": "text"
      },
      "source": [
        "[![Open In Colab](https://colab.research.google.com/assets/colab-badge.svg)](https://colab.research.google.com/github/gabrielkerr/deep_learning_fall_2018/blob/master/Gabriel_Kerr_homework3_visualization.ipynb)"
      ]
    },
    {
      "metadata": {
        "editable": true,
        "deletable": true,
        "id": "1b6XZFqZS7PE",
        "colab_type": "text"
      },
      "cell_type": "markdown",
      "source": [
        "# Network Visualization\n",
        "\n",
        "In this notebook we will explore the use of *image gradients* for generating new images.\n",
        "\n",
        "When training a model, we define a loss function which measures our current unhappiness with the model's performance; we then use backpropagation to compute the gradient of the loss with respect to the model parameters, and perform gradient descent on the model parameters to minimize the loss.\n",
        "\n",
        "Here we will do something slightly different. We will start from a convolutional neural network model which has been pretrained to perform image classification on the ImageNet dataset. We will use this model to define a loss function which quantifies our current unhappiness with our image, then use backpropagation to compute the gradient of this loss with respect to the pixels of the image. We will then keep the model fixed, and perform gradient descent *on the image* to synthesize a new image which minimizes the loss.\n",
        "\n",
        "In this notebook we will explore three techniques for image generation:\n",
        "\n",
        "1. **Saliency Maps**: Saliency maps are a quick way to tell which part of the image influenced the classification decision made by the network.\n",
        "2. **Fooling Images**: We can perturb an input image so that it appears the same to humans, but will be misclassified by the pretrained network.\n",
        "3. **Class Visualization**: We can synthesize an image to maximize the classification score of a particular class; this can give us some sense of what the network is looking for when it classifies images of that class."
      ]
    },
    {
      "metadata": {
        "editable": true,
        "deletable": true,
        "id": "lJP7FRpFQv49",
        "colab_type": "text"
      },
      "cell_type": "markdown",
      "source": [
        "## Setup\n",
        "\n",
        "Before beginning, you may want to change the runtime accelerator to `GPU` so that things go faster!  Do that by clicking the `Runtime` menu item above, then select `Change runtime type`, then select `GPU` for the Accelerator."
      ]
    },
    {
      "metadata": {
        "editable": true,
        "deletable": true,
        "id": "m54i7R-FS7PG",
        "colab_type": "code",
        "colab": {}
      },
      "cell_type": "code",
      "source": [
        "import time, os, json\n",
        "import numpy as np\n",
        "import matplotlib.pyplot as plt\n",
        "import tensorflow as tf\n",
        "\n",
        "\n",
        "plt.rcParams['figure.figsize'] = (10.0, 8.0) # set default size of plots\n",
        "plt.rcParams['image.interpolation'] = 'nearest'\n",
        "plt.rcParams['image.cmap'] = 'gray'\n",
        "\n",
        "\n",
        "SQUEEZENET_MEAN = np.array([0.485, 0.456, 0.406], dtype=np.float32)\n",
        "SQUEEZENET_STD = np.array([0.229, 0.224, 0.225], dtype=np.float32)\n",
        "\n",
        "\n",
        "def load_imagenet_val(path, num=None):\n",
        "    \"\"\"Load a handful of validation images from ImageNet.\n",
        "\n",
        "    Inputs:\n",
        "    - path: path to image data\n",
        "    - num: Number of images to load (max of 25)\n",
        "\n",
        "    Returns:\n",
        "    - X: numpy array with shape [num, 224, 224, 3]\n",
        "    - y: numpy array of integer image labels, shape [num]\n",
        "    - class_names: dict mapping integer label to class name\n",
        "    \"\"\"\n",
        "    f = np.load(path)\n",
        "    X = f['X']\n",
        "    y = f['y']\n",
        "    class_names = f['label_map'].item()\n",
        "    if num is not None:\n",
        "        X = X[:num]\n",
        "        y = y[:num]\n",
        "    return X, y, class_names\n",
        "\n",
        "\n",
        "def preprocess_image(img):\n",
        "    \"\"\"Preprocess an image for squeezenet.\n",
        "    \n",
        "    Subtracts the pixel mean and divides by the standard deviation.\n",
        "    \"\"\"\n",
        "    return (img.astype(np.float32)/255.0 - SQUEEZENET_MEAN) / SQUEEZENET_STD\n",
        "\n",
        "\n",
        "def deprocess_image(img, rescale=False):\n",
        "    \"\"\"Undo preprocessing on an image and convert back to uint8.\"\"\"\n",
        "    img = (img * SQUEEZENET_STD + SQUEEZENET_MEAN)\n",
        "    if rescale:\n",
        "        vmin, vmax = img.min(), img.max()\n",
        "        img = (img - vmin) / (vmax - vmin)\n",
        "    return np.clip(255 * img, 0.0, 255.0).astype(np.uint8)\n",
        "  \n",
        "\n",
        "def get_session():\n",
        "    \"\"\"Create a session that dynamically allocates memory.\"\"\"\n",
        "    # See: https://www.tensorflow.org/tutorials/using_gpu#allowing_gpu_memory_growth\n",
        "    config = tf.ConfigProto()\n",
        "    config.gpu_options.allow_growth = True\n",
        "    session = tf.Session(config=config)\n",
        "    return session"
      ],
      "execution_count": 0,
      "outputs": []
    },
    {
      "metadata": {
        "editable": true,
        "deletable": true,
        "id": "woSnmk09S7PJ",
        "colab_type": "text"
      },
      "cell_type": "markdown",
      "source": [
        "## Load the pretrained SqueezeNet model\n",
        "\n",
        "For all of our image generation experiments, we will start with a convolutional neural network which was pretrained to perform image classification on ImageNet. We can use any model here, but for the purposes of this assignment we will use SqueezeNet [1], which achieves accuracies comparable to AlexNet but with a significantly reduced parameter count and computational complexity.\n",
        "\n",
        "Using SqueezeNet rather than AlexNet or VGG or ResNet means that we can easily perform all image generation experiments on CPU (if needed).\n",
        "\n",
        "To use SqueezeNet, we will need to mount the Google drive folder containing the data for this exercise.  It contains the weights for a pretrained SqueezeNet model.  If you haven't already, click on [this link](https://drive.google.com/open?id=1aCwJhv_33XKfLm-rIcZ6l56CraubacEU), then right-click the `uu_deep_learning_data` directory and choose \"Add to My Drive\".\n",
        "\n",
        "\n",
        "[1] Iandola et al, \"SqueezeNet: AlexNet-level accuracy with 50x fewer parameters and < 0.5MB model size\", arXiv 2016"
      ]
    },
    {
      "metadata": {
        "id": "dqVSr9FKFS3B",
        "colab_type": "code",
        "colab": {}
      },
      "cell_type": "code",
      "source": [
        "from google.colab import drive\n",
        "drive.mount('/content/drive')"
      ],
      "execution_count": 0,
      "outputs": []
    },
    {
      "metadata": {
        "id": "CwwIbi07EsnG",
        "colab_type": "code",
        "colab": {}
      },
      "cell_type": "code",
      "source": [
        "NUM_CLASSES = 1000\n",
        "\n",
        "\n",
        "def fire_module(x,inp,sp,e11p,e33p):\n",
        "    with tf.variable_scope(\"fire\"):\n",
        "        with tf.variable_scope(\"squeeze\"):\n",
        "            W = tf.get_variable(\"weights\",shape=[1,1,inp,sp])\n",
        "            b = tf.get_variable(\"bias\",shape=[sp])\n",
        "            s = tf.nn.conv2d(x,W,[1,1,1,1],\"VALID\")+b\n",
        "            s = tf.nn.relu(s)\n",
        "        with tf.variable_scope(\"e11\"):\n",
        "            W = tf.get_variable(\"weights\",shape=[1,1,sp,e11p])\n",
        "            b = tf.get_variable(\"bias\",shape=[e11p])\n",
        "            e11 = tf.nn.conv2d(s,W,[1,1,1,1],\"VALID\")+b\n",
        "            e11 = tf.nn.relu(e11)\n",
        "        with tf.variable_scope(\"e33\"):\n",
        "            W = tf.get_variable(\"weights\",shape=[3,3,sp,e33p])\n",
        "            b = tf.get_variable(\"bias\",shape=[e33p])\n",
        "            e33 = tf.nn.conv2d(s,W,[1,1,1,1],\"SAME\")+b\n",
        "            e33 = tf.nn.relu(e33)\n",
        "        return tf.concat([e11,e33],3)\n",
        "\n",
        "\n",
        "class SqueezeNet(object):\n",
        "    def extract_features(self, input=None, reuse=True):\n",
        "        if input is None:\n",
        "            input = self.image\n",
        "        x = input\n",
        "        layers = []\n",
        "        with tf.variable_scope('features', reuse=reuse):\n",
        "            with tf.variable_scope('layer0'):\n",
        "                W = tf.get_variable(\"weights\",shape=[3,3,3,64])\n",
        "                b = tf.get_variable(\"bias\",shape=[64])\n",
        "                x = tf.nn.conv2d(x,W,[1,2,2,1],\"VALID\")\n",
        "                x = tf.nn.bias_add(x,b)\n",
        "                layers.append(x)\n",
        "            with tf.variable_scope('layer1'):\n",
        "                x = tf.nn.relu(x)\n",
        "                layers.append(x)\n",
        "            with tf.variable_scope('layer2'):\n",
        "                x = tf.nn.max_pool(x,[1,3,3,1],strides=[1,2,2,1],padding='VALID')\n",
        "                layers.append(x)\n",
        "            with tf.variable_scope('layer3'):\n",
        "                x = fire_module(x,64,16,64,64)\n",
        "                layers.append(x)\n",
        "            with tf.variable_scope('layer4'):\n",
        "                x = fire_module(x,128,16,64,64)\n",
        "                layers.append(x)\n",
        "            with tf.variable_scope('layer5'):\n",
        "                x = tf.nn.max_pool(x,[1,3,3,1],strides=[1,2,2,1],padding='VALID')\n",
        "                layers.append(x)\n",
        "            with tf.variable_scope('layer6'):\n",
        "                x = fire_module(x,128,32,128,128)\n",
        "                layers.append(x)\n",
        "            with tf.variable_scope('layer7'):\n",
        "                x = fire_module(x,256,32,128,128)\n",
        "                layers.append(x)\n",
        "            with tf.variable_scope('layer8'):\n",
        "                x = tf.nn.max_pool(x,[1,3,3,1],strides=[1,2,2,1],padding='VALID')\n",
        "                layers.append(x)\n",
        "            with tf.variable_scope('layer9'):\n",
        "                x = fire_module(x,256,48,192,192)\n",
        "                layers.append(x)\n",
        "            with tf.variable_scope('layer10'):\n",
        "                x = fire_module(x,384,48,192,192)\n",
        "                layers.append(x)\n",
        "            with tf.variable_scope('layer11'):\n",
        "                x = fire_module(x,384,64,256,256)\n",
        "                layers.append(x)\n",
        "            with tf.variable_scope('layer12'):\n",
        "                x = fire_module(x,512,64,256,256)\n",
        "                layers.append(x)\n",
        "        return layers\n",
        "\n",
        "    def __init__(self, save_path=None, sess=None):\n",
        "        \"\"\"Create a SqueezeNet model.\n",
        "        Inputs:\n",
        "        - save_path: path to TensorFlow checkpoint\n",
        "        - sess: TensorFlow session\n",
        "        - input: optional input to the model. If None, will use placeholder for input.\n",
        "        \"\"\"\n",
        "        self.image = tf.placeholder('float',shape=[None,None,None,3],name='input_image')\n",
        "        self.labels = tf.placeholder('int32', shape=[None], name='labels')\n",
        "        self.layers = []\n",
        "        x = self.image\n",
        "        self.layers = self.extract_features(x, reuse=False)\n",
        "        self.features = self.layers[-1]\n",
        "        with tf.variable_scope('classifier'):\n",
        "            with tf.variable_scope('layer0'):\n",
        "                x = self.features\n",
        "                self.layers.append(x)\n",
        "            with tf.variable_scope('layer1'):\n",
        "                W = tf.get_variable(\"weights\",shape=[1,1,512,1000])\n",
        "                b = tf.get_variable(\"bias\",shape=[1000])\n",
        "                x = tf.nn.conv2d(x,W,[1,1,1,1],\"VALID\")\n",
        "                x = tf.nn.bias_add(x,b)\n",
        "                self.layers.append(x)\n",
        "            with tf.variable_scope('layer2'):\n",
        "                x = tf.nn.relu(x)\n",
        "                self.layers.append(x)\n",
        "            with tf.variable_scope('layer3'):\n",
        "                x = tf.nn.avg_pool(x,[1,13,13,1],strides=[1,13,13,1],padding='VALID')\n",
        "                self.layers.append(x)\n",
        "        self.scores = tf.reshape(x,[-1, NUM_CLASSES])\n",
        "\n",
        "        if save_path is not None:\n",
        "            saver = tf.train.Saver()\n",
        "            saver.restore(sess, save_path)\n",
        "        self.loss = tf.reduce_mean(tf.nn.softmax_cross_entropy_with_logits_v2(labels=tf.one_hot(self.labels, NUM_CLASSES), logits=self.scores))"
      ],
      "execution_count": 0,
      "outputs": []
    },
    {
      "metadata": {
        "editable": true,
        "deletable": true,
        "id": "waaaYqBAS7PK",
        "colab_type": "code",
        "colab": {}
      },
      "cell_type": "code",
      "source": [
        "tf.reset_default_graph() # remove all existing variables in the graph \n",
        "sess = get_session() # start a new Session\n",
        "\n",
        "DRIVE_DIR = '/content/drive/My Drive/uu_deep_learning_data/visualization'\n",
        "SAVE_PATH = '/content/drive/My Drive/uu_deep_learning_data/squeezenet/squeezenet.ckpt'\n",
        "\n",
        "# Load pretrained SqueezeNet model\n",
        "model = SqueezeNet(save_path=SAVE_PATH, sess=sess)"
      ],
      "execution_count": 0,
      "outputs": []
    },
    {
      "metadata": {
        "editable": true,
        "deletable": true,
        "id": "l_UQ-ZQ3S7PO",
        "colab_type": "text"
      },
      "cell_type": "markdown",
      "source": [
        "## Load some ImageNet images\n",
        "We have provided a few example images from the validation set of the ImageNet ILSVRC 2012 Classification dataset.  Since they come from the validation set, our pretrained model did not see these images during training.\n",
        "\n",
        "Run the following cell to visualize some of these images, along with their ground-truth labels."
      ]
    },
    {
      "metadata": {
        "editable": true,
        "deletable": true,
        "id": "3ZGZZc4xS7PP",
        "colab_type": "code",
        "colab": {}
      },
      "cell_type": "code",
      "source": [
        "IMAGE_PATH = os.path.join(DRIVE_DIR, 'imagenet_val_25.npz')\n",
        "X_raw, y, class_names = load_imagenet_val(IMAGE_PATH, num=5)\n",
        "\n",
        "plt.figure(figsize=(12, 6))\n",
        "for i in range(5):\n",
        "    plt.subplot(1, 5, i + 1)\n",
        "    plt.imshow(X_raw[i])\n",
        "    plt.title(class_names[y[i]])\n",
        "    plt.axis('off')\n",
        "plt.gcf().tight_layout()"
      ],
      "execution_count": 0,
      "outputs": []
    },
    {
      "metadata": {
        "editable": true,
        "deletable": true,
        "id": "zHqaS_QvS7PS",
        "colab_type": "text"
      },
      "cell_type": "markdown",
      "source": [
        "## Preprocess images\n",
        "The input to the pretrained model is expected to be normalized, so we first preprocess the images by subtracting the pixelwise mean and dividing by the pixelwise standard deviation."
      ]
    },
    {
      "metadata": {
        "editable": true,
        "deletable": true,
        "id": "o8FrSjvfS7PT",
        "colab_type": "code",
        "colab": {}
      },
      "cell_type": "code",
      "source": [
        "X = np.array([preprocess_image(img) for img in X_raw])"
      ],
      "execution_count": 0,
      "outputs": []
    },
    {
      "metadata": {
        "editable": true,
        "deletable": true,
        "id": "ONfuPOnqS7PW",
        "colab_type": "text"
      },
      "cell_type": "markdown",
      "source": [
        "# Saliency Maps\n",
        "Using this pretrained model, we will compute class saliency maps as described in Section 3.1 of [2].\n",
        "\n",
        "A **saliency map** tells us the degree to which each pixel in the image affects the classification score for that image. To compute it, we compute the gradient of the unnormalized score corresponding to the correct class (which is a scalar) with respect to the pixels of the image. If the image has shape `(H, W, 3)` then this gradient will also have shape `(H, W, 3)`; for each pixel in the image, this gradient tells us the amount by which the classification score will change if the pixel changes by a small amount. To compute the saliency map, we take the absolute value of this gradient, then take the maximum value over the 3 input channels; the final saliency map thus has shape `(H, W)` and all entries are nonnegative.\n",
        "\n",
        "You will need to use the `model.scores` Tensor containing the scores for each input, and will need to feed in values for the `model.image` and `model.labels` placeholder when evaluating the gradient. Read the docstrings on the `SqueezeNet` model class above to make sure you understand how to use the model. For example usage, you can see the `loss` attribute. \n",
        "\n",
        "[2] Karen Simonyan, Andrea Vedaldi, and Andrew Zisserman. \"Deep Inside Convolutional Networks: Visualising\n",
        "Image Classification Models and Saliency Maps\", ICLR Workshop 2014."
      ]
    },
    {
      "metadata": {
        "editable": true,
        "deletable": true,
        "id": "FXl2dbKBS7PW",
        "colab_type": "code",
        "colab": {}
      },
      "cell_type": "code",
      "source": [
        "def compute_saliency_maps(X, y, model):\n",
        "    \"\"\"\n",
        "    Compute a class saliency map using the model for images X and labels y.\n",
        "\n",
        "    Input:\n",
        "    - X: Input images, numpy array of shape (N, H, W, 3)\n",
        "    - y: Labels for X, numpy of shape (N,)\n",
        "    - model: A SqueezeNet model that will be used to compute the saliency map.\n",
        "\n",
        "    Returns:\n",
        "    - saliency: A numpy array of shape (N, H, W) giving the saliency maps for the\n",
        "    input images.\n",
        "    \"\"\"\n",
        "    saliency = None\n",
        "    # Compute the score of the correct class for each example.\n",
        "    # This gives a Tensor with shape [N], the number of examples.\n",
        "    #\n",
        "    # Note: this is equivalent to scores[np.arange(N), y] we used in NumPy\n",
        "    # for computing vectorized losses.\n",
        "    correct_scores = tf.gather_nd(model.scores,\n",
        "                                  tf.stack((tf.range(X.shape[0]), model.labels), axis=1))\n",
        "    ###############################################################################\n",
        "    # TODO: Produce the saliency maps over a batch of images.                     #\n",
        "    #                                                                             #\n",
        "    # 1) Compute the “loss” using the correct scores tensor provided for you.     #\n",
        "    #    (We'll combine losses across a batch by summing)                         #\n",
        "    # 2) Use tf.gradients to compute the gradient of the loss with respect        #\n",
        "    #    to the image (accessible via model.image).                               #\n",
        "    # 3) Compute the actual value of the gradient by a call to sess.run().        #\n",
        "    #    You will need to feed in values for the placeholders model.image and     #\n",
        "    #    model.labels.                                                            #\n",
        "    # 4) Finally, process the returned gradient to compute the saliency map.      #\n",
        "    ###############################################################################\n",
        "    pass\n",
        "    ##############################################################################\n",
        "    #                             END OF YOUR CODE                               #\n",
        "    ##############################################################################\n",
        "    return saliency"
      ],
      "execution_count": 0,
      "outputs": []
    },
    {
      "metadata": {
        "editable": true,
        "deletable": true,
        "id": "CJOa2ZjUS7Pa",
        "colab_type": "text"
      },
      "cell_type": "markdown",
      "source": [
        "Once you have completed the implementation in the cell above, run the following to visualize some class saliency maps on our example images from the ImageNet validation set:"
      ]
    },
    {
      "metadata": {
        "editable": true,
        "deletable": true,
        "id": "rJJ-2GI_S7Pc",
        "colab_type": "code",
        "colab": {}
      },
      "cell_type": "code",
      "source": [
        "def show_saliency_maps(X, y, mask):\n",
        "    mask = np.asarray(mask)\n",
        "    Xm = X[mask]\n",
        "    ym = y[mask]\n",
        "\n",
        "    saliency = compute_saliency_maps(Xm, ym, model)\n",
        "\n",
        "    for i in range(mask.size):\n",
        "        plt.subplot(2, mask.size, i + 1)\n",
        "        plt.imshow(deprocess_image(Xm[i]))\n",
        "        plt.axis('off')\n",
        "        plt.title(class_names[ym[i]])\n",
        "        plt.subplot(2, mask.size, mask.size + i + 1)\n",
        "        plt.title(mask[i])\n",
        "        plt.imshow(saliency[i], cmap=plt.cm.hot)\n",
        "        plt.axis('off')\n",
        "        plt.gcf().set_size_inches(10, 4)\n",
        "    plt.show()\n",
        "\n",
        "mask = np.arange(5)\n",
        "show_saliency_maps(X, y, mask)"
      ],
      "execution_count": 0,
      "outputs": []
    },
    {
      "metadata": {
        "id": "HwhIoILPS7Pf",
        "colab_type": "text"
      },
      "cell_type": "markdown",
      "source": [
        "# INLINE QUESTION"
      ]
    },
    {
      "metadata": {
        "id": "ODCxyBIDS7Pg",
        "colab_type": "text"
      },
      "cell_type": "markdown",
      "source": [
        "A friend of yours suggests that in order to find an image that maximizes the correct score, we can perform gradient ascent on the input image, but instead of the gradient we can actually use the saliency map in each step to update the image. Is this assertion true? Why or why not?"
      ]
    },
    {
      "metadata": {
        "editable": true,
        "deletable": true,
        "id": "4YLeTfmAS7Ph",
        "colab_type": "text"
      },
      "cell_type": "markdown",
      "source": [
        "# Fooling Images\n",
        "We can also use image gradients to generate \"fooling images\" as discussed in [3]. Given an image and a target class, we can perform gradient **ascent** over the image to maximize the target class, stopping when the network classifies the image as the target class. Implement the following function to generate fooling images.\n",
        "\n",
        "[3] Szegedy et al, \"Intriguing properties of neural networks\", ICLR 2014"
      ]
    },
    {
      "metadata": {
        "editable": true,
        "deletable": true,
        "id": "TL4qOsLkS7Pi",
        "colab_type": "code",
        "colab": {}
      },
      "cell_type": "code",
      "source": [
        "def make_fooling_image(X, target_y, model):\n",
        "    \"\"\"\n",
        "    Generate a fooling image that is close to X, but that the model classifies\n",
        "    as target_y.\n",
        "\n",
        "    Inputs:\n",
        "    - X: Input image, a numpy array of shape (1, 224, 224, 3)\n",
        "    - target_y: An integer in the range [0, 1000)\n",
        "    - model: Pretrained SqueezeNet model\n",
        "\n",
        "    Returns:\n",
        "    - X_fooling: An image that is close to X, but that is classifed as target_y\n",
        "    by the model.\n",
        "    \"\"\"\n",
        "    \n",
        "    # Make a copy of the input that we will modify\n",
        "    X_fooling = X.copy()\n",
        "    \n",
        "    # Step size for the update\n",
        "    learning_rate = 1\n",
        "    \n",
        "    ##############################################################################\n",
        "    # TODO: Generate a fooling image X_fooling that the model will classify as   #\n",
        "    # the class target_y. Use gradient *ascent* on the target class score, using #\n",
        "    # the model.scores Tensor to get the class scores for the model.image.       #\n",
        "    # When computing an update step, first normalize the gradient:               #\n",
        "    #   dX = learning_rate * g / ||g||_2                                         #\n",
        "    #                                                                            #\n",
        "    # You should write a training loop, where in each iteration, you make an     #\n",
        "    # update to the input image X_fooling (don't modify X). The loop should      #\n",
        "    # stop when the predicted class for the input is the same as target_y.       #\n",
        "    #                                                                            #\n",
        "    # HINT: It's good practice to define your TensorFlow graph operations        #\n",
        "    # outside the loop, and then just make sess.run() calls in each iteration.   #\n",
        "    #                                                                            #\n",
        "    # HINT 2: For most examples, you should be able to generate a fooling image  #\n",
        "    # in fewer than 100 iterations of gradient ascent. You can print your        #\n",
        "    # progress over iterations to check your algorithm.                          #\n",
        "    ##############################################################################\n",
        "    pass\n",
        "    ##############################################################################\n",
        "    #                             END OF YOUR CODE                               #\n",
        "    ##############################################################################\n",
        "    return X_fooling"
      ],
      "execution_count": 0,
      "outputs": []
    },
    {
      "metadata": {
        "editable": true,
        "deletable": true,
        "id": "fWhcywuAS7Pk",
        "colab_type": "text"
      },
      "cell_type": "markdown",
      "source": [
        "Run the following to generate a fooling image. You should ideally see at first glance no major difference between the original and fooling images, and the network should now make an incorrect prediction on the fooling one. However you should see a bit of random noise if you look at the 10x magnified difference between the original and fooling images. Feel free to change the `idx` variable to explore other images."
      ]
    },
    {
      "metadata": {
        "editable": true,
        "deletable": true,
        "id": "7y0Q3Ta-S7Pm",
        "colab_type": "code",
        "colab": {}
      },
      "cell_type": "code",
      "source": [
        "idx = 0\n",
        "Xi = X[idx][None]\n",
        "target_y = 6\n",
        "X_fooling = make_fooling_image(Xi, target_y, model)\n",
        "\n",
        "# Make sure that X_fooling is classified as y_target\n",
        "scores = sess.run(model.scores, {model.image: X_fooling})\n",
        "assert scores[0].argmax() == target_y, 'The network is not fooled!'\n",
        "\n",
        "# Show original image, fooling image, and difference\n",
        "orig_img = deprocess_image(Xi[0])\n",
        "fool_img = deprocess_image(X_fooling[0])\n",
        "# Rescale \n",
        "plt.subplot(1, 4, 1)\n",
        "plt.imshow(orig_img)\n",
        "plt.axis('off')\n",
        "plt.title(class_names[y[idx]])\n",
        "plt.subplot(1, 4, 2)\n",
        "plt.imshow(fool_img)\n",
        "plt.title(class_names[target_y])\n",
        "plt.axis('off')\n",
        "plt.subplot(1, 4, 3)\n",
        "plt.title('Difference')\n",
        "plt.imshow(deprocess_image((Xi-X_fooling)[0]))\n",
        "plt.axis('off')\n",
        "plt.subplot(1, 4, 4)\n",
        "plt.title('Magnified difference (10x)')\n",
        "plt.imshow(deprocess_image(10 * (Xi-X_fooling)[0]))\n",
        "plt.axis('off')\n",
        "plt.gcf().tight_layout()"
      ],
      "execution_count": 0,
      "outputs": []
    },
    {
      "metadata": {
        "editable": true,
        "deletable": true,
        "id": "vdKdqHFLS7Pp",
        "colab_type": "text"
      },
      "cell_type": "markdown",
      "source": [
        "# Class visualization\n",
        "By starting with a random noise image and performing gradient ascent on a target class, we can generate an image that the network will recognize as the target class. This idea was first presented in [2]; [3] extended this idea by suggesting several regularization techniques that can improve the quality of the generated image.\n",
        "\n",
        "Concretely, let $I$ be an image and let $y$ be a target class. Let $s_y(I)$ be the score that a convolutional network assigns to the image $I$ for class $y$; note that these are raw unnormalized scores, not class probabilities. We wish to generate an image $I^*$ that achieves a high score for the class $y$ by solving the problem\n",
        "\n",
        "$$\n",
        "I^* = {\\arg\\max}_I (s_y(I) - R(I))\n",
        "$$\n",
        "\n",
        "where $R$ is a (possibly implicit) regularizer (note the sign of $R(I)$ in the argmax: we want to minimize this regularization term). We can solve this optimization problem using gradient ascent, computing gradients with respect to the generated image. We will use (explicit) L2 regularization of the form\n",
        "\n",
        "$$\n",
        "R(I) = \\lambda \\|I\\|_2^2\n",
        "$$\n",
        "\n",
        "**and** implicit regularization as suggested by [3] by periodically blurring the generated image. We can solve this problem using gradient ascent on the generated image.\n",
        "\n",
        "In the cell below, complete the implementation of the `create_class_visualization` function.\n",
        "\n",
        "[2] Karen Simonyan, Andrea Vedaldi, and Andrew Zisserman. \"Deep Inside Convolutional Networks: Visualising\n",
        "Image Classification Models and Saliency Maps\", ICLR Workshop 2014.\n",
        "\n",
        "[3] Yosinski et al, \"Understanding Neural Networks Through Deep Visualization\", ICML 2015 Deep Learning Workshop"
      ]
    },
    {
      "metadata": {
        "editable": true,
        "deletable": true,
        "id": "1mR7qbyMS7Pp",
        "colab_type": "code",
        "colab": {}
      },
      "cell_type": "code",
      "source": [
        "from scipy.ndimage.filters import gaussian_filter1d\n",
        "def blur_image(X, sigma=1):\n",
        "    X = gaussian_filter1d(X, sigma, axis=1)\n",
        "    X = gaussian_filter1d(X, sigma, axis=2)\n",
        "    return X"
      ],
      "execution_count": 0,
      "outputs": []
    },
    {
      "metadata": {
        "editable": true,
        "deletable": true,
        "id": "5d2c9MrzS7Pu",
        "colab_type": "code",
        "colab": {}
      },
      "cell_type": "code",
      "source": [
        "def create_class_visualization(target_y, model, **kwargs):\n",
        "    \"\"\"\n",
        "    Generate an image to maximize the score of target_y under a pretrained model.\n",
        "    \n",
        "    Inputs:\n",
        "    - target_y: Integer in the range [0, 1000) giving the index of the class\n",
        "    - model: A pretrained CNN that will be used to generate the image\n",
        "    \n",
        "    Keyword arguments:\n",
        "    - l2_reg: Strength of L2 regularization on the image\n",
        "    - learning_rate: How big of a step to take\n",
        "    - num_iterations: How many iterations to use\n",
        "    - blur_every: How often to blur the image as an implicit regularizer\n",
        "    - max_jitter: How much to gjitter the image as an implicit regularizer\n",
        "    - show_every: How often to show the intermediate result\n",
        "    \"\"\"\n",
        "    l2_reg = kwargs.pop('l2_reg', 1e-3)\n",
        "    learning_rate = kwargs.pop('learning_rate', 25)\n",
        "    num_iterations = kwargs.pop('num_iterations', 100)\n",
        "    blur_every = kwargs.pop('blur_every', 10)\n",
        "    max_jitter = kwargs.pop('max_jitter', 16)\n",
        "    show_every = kwargs.pop('show_every', 25)\n",
        "    \n",
        "    # We use a single image of random noise as a starting point\n",
        "    X = 255 * np.random.rand(224, 224, 3)\n",
        "    X = preprocess_image(X)[None]\n",
        "    \n",
        "    ########################################################################\n",
        "    # TODO: Compute the loss and the gradient of the loss with respect to  #\n",
        "    # the input image, model.image. We compute these outside the loop so   #\n",
        "    # that we don't have to recompute the gradient graph at each iteration #\n",
        "    #                                                                      #\n",
        "    # Note: loss and grad should be TensorFlow Tensors, not numpy arrays!  #\n",
        "    #                                                                      #\n",
        "    # The loss is the score for the target label, target_y. You should     #\n",
        "    # use model.scores to get the scores, and tf.gradients to compute  #\n",
        "    # gradients. Don't forget the (subtracted) L2 regularization term!     #\n",
        "    ########################################################################\n",
        "    loss = None # scalar loss\n",
        "    grad = None # gradient of loss with respect to model.image, same size as model.image\n",
        "    pass    \n",
        "    ############################################################################\n",
        "    #                             END OF YOUR CODE                             #\n",
        "    ############################################################################\n",
        "\n",
        "    \n",
        "    for t in range(num_iterations):\n",
        "        # Randomly jitter the image a bit; this gives slightly nicer results\n",
        "        ox, oy = np.random.randint(-max_jitter, max_jitter+1, 2)\n",
        "        X = np.roll(np.roll(X, ox, 1), oy, 2)\n",
        "        \n",
        "        ########################################################################\n",
        "        # TODO: Use sess to compute the value of the gradient of the score for #\n",
        "        # class target_y with respect to the pixels of the image, and make a   #\n",
        "        # gradient step on the image using the learning rate. You should use   #\n",
        "        # the grad variable you defined above.                                 #\n",
        "        #                                                                      #\n",
        "        # Be very careful about the signs of elements in your code.            #\n",
        "        ########################################################################\n",
        "        pass\n",
        "        ############################################################################\n",
        "        #                             END OF YOUR CODE                             #\n",
        "        ############################################################################\n",
        "\n",
        "        # Undo the jitter\n",
        "        X = np.roll(np.roll(X, -ox, 1), -oy, 2)\n",
        "\n",
        "        # As a regularizer, clip and periodically blur\n",
        "        X = np.clip(X, -SQUEEZENET_MEAN/SQUEEZENET_STD, (1.0 - SQUEEZENET_MEAN)/SQUEEZENET_STD)\n",
        "        if t % blur_every == 0:\n",
        "            X = blur_image(X, sigma=0.5)\n",
        "\n",
        "        # Periodically show the image\n",
        "        if t == 0 or (t + 1) % show_every == 0 or t == num_iterations - 1:\n",
        "            plt.imshow(deprocess_image(X[0]))\n",
        "            class_name = class_names[target_y]\n",
        "            plt.title('%s\\nIteration %d / %d' % (class_name, t + 1, num_iterations))\n",
        "            plt.gcf().set_size_inches(4, 4)\n",
        "            plt.axis('off')\n",
        "            plt.show()\n",
        "    return X"
      ],
      "execution_count": 0,
      "outputs": []
    },
    {
      "metadata": {
        "editable": true,
        "deletable": true,
        "id": "x68izWj1S7P0",
        "colab_type": "text"
      },
      "cell_type": "markdown",
      "source": [
        "Once you have completed the implementation in the cell above, run the following cell to generate an image of Tarantula:"
      ]
    },
    {
      "metadata": {
        "editable": true,
        "deletable": true,
        "id": "y6NDFiNJS7P0",
        "colab_type": "code",
        "colab": {}
      },
      "cell_type": "code",
      "source": [
        "target_y = 76 # Tarantula\n",
        "out = create_class_visualization(target_y, model)"
      ],
      "execution_count": 0,
      "outputs": []
    },
    {
      "metadata": {
        "editable": true,
        "deletable": true,
        "id": "be_YW8ONS7P4",
        "colab_type": "text"
      },
      "cell_type": "markdown",
      "source": [
        "Try out your class visualization on other classes! You should also feel free to play with various hyperparameters to try and improve the quality of the generated image, but this is not required."
      ]
    },
    {
      "metadata": {
        "editable": true,
        "deletable": true,
        "id": "FR6m4atiS7P4",
        "colab_type": "code",
        "colab": {}
      },
      "cell_type": "code",
      "source": [
        "target_y = np.random.randint(1000)\n",
        "# target_y = 78 # Tick\n",
        "# target_y = 187 # Yorkshire Terrier\n",
        "# target_y = 683 # Oboe\n",
        "# target_y = 366 # Gorilla\n",
        "# target_y = 604 # Hourglass\n",
        "print(class_names[target_y])\n",
        "X = create_class_visualization(target_y, model)"
      ],
      "execution_count": 0,
      "outputs": []
    }
  ]
}