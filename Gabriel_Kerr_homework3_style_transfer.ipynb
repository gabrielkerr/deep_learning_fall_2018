{
  "nbformat": 4,
  "nbformat_minor": 0,
  "metadata": {
    "colab": {
      "name": "Gabriel Kerr - homework3_style_transfer.ipynb",
      "version": "0.3.2",
      "provenance": [],
      "collapsed_sections": [],
      "toc_visible": true,
      "include_colab_link": true
    },
    "kernelspec": {
      "name": "python3",
      "display_name": "Python 3"
    },
    "accelerator": "GPU"
  },
  "cells": [
    {
      "cell_type": "markdown",
      "metadata": {
        "id": "view-in-github",
        "colab_type": "text"
      },
      "source": [
        "[![Open In Colab](https://colab.research.google.com/assets/colab-badge.svg)](https://colab.research.google.com/github/gabrielkerr/deep_learning_fall_2018/blob/master/Gabriel_Kerr_homework3_style_transfer.ipynb)"
      ]
    },
    {
      "metadata": {
        "editable": true,
        "deletable": true,
        "id": "TYk6obofQv47",
        "colab_type": "text"
      },
      "cell_type": "markdown",
      "source": [
        "# Style Transfer\n",
        "In this notebook we will implement the style transfer technique from [\"Image Style Transfer Using Convolutional Neural Networks\" (Gatys et al., CVPR 2015)](http://www.cv-foundation.org/openaccess/content_cvpr_2016/papers/Gatys_Image_Style_Transfer_CVPR_2016_paper.pdf).\n",
        "\n",
        "The general idea is to take two images, and produce a new image that reflects the content of one but the artistic \"style\" of the other. We will do this by first formulating a loss function that matches the content and style of each respective image in the feature space of a deep network, and then performing gradient descent on the pixels of the image itself.\n",
        "\n",
        "The deep network we use as a feature extractor is [SqueezeNet](https://arxiv.org/abs/1602.07360), a small model that has been trained on ImageNet. You could use any network, but we chose SqueezeNet here for its small size and efficiency.\n",
        "\n",
        "Here's an example of the images you'll be able to produce by the end of this notebook:\n",
        "\n",
        "![style transfer example](https://drive.google.com/uc?id=1JbF3c7ixKcoB7k439Hm6E0M7y3klVX92)\n",
        "\n"
      ]
    },
    {
      "metadata": {
        "editable": true,
        "deletable": true,
        "id": "lJP7FRpFQv49",
        "colab_type": "text"
      },
      "cell_type": "markdown",
      "source": [
        "## Setup\n",
        "\n",
        "Before beginning, you may want to change the runtime accelerator to `GPU` so that things go faster!  Do that by clicking the `Runtime` menu item above, then select `Change runtime type`, then select `GPU` for the Accelerator."
      ]
    },
    {
      "metadata": {
        "editable": true,
        "deletable": true,
        "id": "clQMxzhAQv4-",
        "colab_type": "code",
        "colab": {}
      },
      "cell_type": "code",
      "source": [
        "import os\n",
        "import numpy as np\n",
        "from scipy.misc import imread, imresize\n",
        "import tensorflow as tf\n",
        "import matplotlib.pyplot as plt\n",
        "\n",
        "\n",
        "SQUEEZENET_MEAN = np.array([0.485, 0.456, 0.406], dtype=np.float32)\n",
        "SQUEEZENET_STD = np.array([0.229, 0.224, 0.225], dtype=np.float32)\n",
        "\n",
        "\n",
        "def load_image(filename, size=None):\n",
        "    \"\"\"Load and resize an image from disk.\n",
        "\n",
        "    Inputs:\n",
        "    - filename: path to file\n",
        "    - size: size of shortest dimension after rescaling\n",
        "    \"\"\"\n",
        "    img = imread(filename)\n",
        "    if size is not None:\n",
        "        orig_shape = np.array(img.shape[:2])\n",
        "        min_idx = np.argmin(orig_shape)\n",
        "        scale_factor = float(size) / orig_shape[min_idx]\n",
        "        new_shape = (orig_shape * scale_factor).astype(int)\n",
        "        img = imresize(img, scale_factor)\n",
        "    return img\n",
        "\n",
        "\n",
        "def preprocess_image(img):\n",
        "    \"\"\"Preprocess an image for squeezenet.\n",
        "    \n",
        "    Subtracts the pixel mean and divides by the standard deviation.\n",
        "    \"\"\"\n",
        "    return (img.astype(np.float32)/255.0 - SQUEEZENET_MEAN) / SQUEEZENET_STD\n",
        "\n",
        "\n",
        "def deprocess_image(img, rescale=False):\n",
        "    \"\"\"Undo preprocessing on an image and convert back to uint8.\"\"\"\n",
        "    img = (img * SQUEEZENET_STD + SQUEEZENET_MEAN)\n",
        "    if rescale:\n",
        "        vmin, vmax = img.min(), img.max()\n",
        "        img = (img - vmin) / (vmax - vmin)\n",
        "    return np.clip(255 * img, 0.0, 255.0).astype(np.uint8)\n",
        "\n",
        "\n",
        "def get_session():\n",
        "    \"\"\"Create a session that dynamically allocates memory.\"\"\"\n",
        "    # See: https://www.tensorflow.org/tutorials/using_gpu#allowing_gpu_memory_growth\n",
        "    config = tf.ConfigProto()\n",
        "    config.gpu_options.allow_growth = True\n",
        "    session = tf.Session(config=config)\n",
        "    return session\n",
        "\n",
        "\n",
        "def rel_error(x,y):\n",
        "    return np.max(np.abs(x - y) / (np.maximum(1e-8, np.abs(x) + np.abs(y))))"
      ],
      "execution_count": 0,
      "outputs": []
    },
    {
      "metadata": {
        "editable": true,
        "deletable": true,
        "id": "ztHab_K_Qv5C",
        "colab_type": "text"
      },
      "cell_type": "markdown",
      "source": [
        "## Load the pretrained SqueezeNet model.\n",
        "\n",
        "To use SqueezeNet, we will need to mount the Google drive folder containing the data for this exercise.  It contains the weights for a pretrained SqueezeNet model.  If you haven't already, click on [this link](https://drive.google.com/open?id=1aCwJhv_33XKfLm-rIcZ6l56CraubacEU), then right-click the `uu_deep_learning_data` directory and choose \"Add to My Drive\"."
      ]
    },
    {
      "metadata": {
        "id": "dqVSr9FKFS3B",
        "colab_type": "code",
        "colab": {}
      },
      "cell_type": "code",
      "source": [
        "from google.colab import drive\n",
        "drive.mount('/content/drive')"
      ],
      "execution_count": 0,
      "outputs": []
    },
    {
      "metadata": {
        "id": "CwwIbi07EsnG",
        "colab_type": "code",
        "colab": {}
      },
      "cell_type": "code",
      "source": [
        "NUM_CLASSES = 1000\n",
        "\n",
        "\n",
        "def fire_module(x,inp,sp,e11p,e33p):\n",
        "    with tf.variable_scope(\"fire\"):\n",
        "        with tf.variable_scope(\"squeeze\"):\n",
        "            W = tf.get_variable(\"weights\",shape=[1,1,inp,sp])\n",
        "            b = tf.get_variable(\"bias\",shape=[sp])\n",
        "            s = tf.nn.conv2d(x,W,[1,1,1,1],\"VALID\")+b\n",
        "            s = tf.nn.relu(s)\n",
        "        with tf.variable_scope(\"e11\"):\n",
        "            W = tf.get_variable(\"weights\",shape=[1,1,sp,e11p])\n",
        "            b = tf.get_variable(\"bias\",shape=[e11p])\n",
        "            e11 = tf.nn.conv2d(s,W,[1,1,1,1],\"VALID\")+b\n",
        "            e11 = tf.nn.relu(e11)\n",
        "        with tf.variable_scope(\"e33\"):\n",
        "            W = tf.get_variable(\"weights\",shape=[3,3,sp,e33p])\n",
        "            b = tf.get_variable(\"bias\",shape=[e33p])\n",
        "            e33 = tf.nn.conv2d(s,W,[1,1,1,1],\"SAME\")+b\n",
        "            e33 = tf.nn.relu(e33)\n",
        "        return tf.concat([e11,e33],3)\n",
        "\n",
        "\n",
        "class SqueezeNet(object):\n",
        "    def extract_features(self, input=None, reuse=True):\n",
        "        if input is None:\n",
        "            input = self.image\n",
        "        x = input\n",
        "        layers = []\n",
        "        with tf.variable_scope('features', reuse=reuse):\n",
        "            with tf.variable_scope('layer0'):\n",
        "                W = tf.get_variable(\"weights\",shape=[3,3,3,64])\n",
        "                b = tf.get_variable(\"bias\",shape=[64])\n",
        "                x = tf.nn.conv2d(x,W,[1,2,2,1],\"VALID\")\n",
        "                x = tf.nn.bias_add(x,b)\n",
        "                layers.append(x)\n",
        "            with tf.variable_scope('layer1'):\n",
        "                x = tf.nn.relu(x)\n",
        "                layers.append(x)\n",
        "            with tf.variable_scope('layer2'):\n",
        "                x = tf.nn.max_pool(x,[1,3,3,1],strides=[1,2,2,1],padding='VALID')\n",
        "                layers.append(x)\n",
        "            with tf.variable_scope('layer3'):\n",
        "                x = fire_module(x,64,16,64,64)\n",
        "                layers.append(x)\n",
        "            with tf.variable_scope('layer4'):\n",
        "                x = fire_module(x,128,16,64,64)\n",
        "                layers.append(x)\n",
        "            with tf.variable_scope('layer5'):\n",
        "                x = tf.nn.max_pool(x,[1,3,3,1],strides=[1,2,2,1],padding='VALID')\n",
        "                layers.append(x)\n",
        "            with tf.variable_scope('layer6'):\n",
        "                x = fire_module(x,128,32,128,128)\n",
        "                layers.append(x)\n",
        "            with tf.variable_scope('layer7'):\n",
        "                x = fire_module(x,256,32,128,128)\n",
        "                layers.append(x)\n",
        "            with tf.variable_scope('layer8'):\n",
        "                x = tf.nn.max_pool(x,[1,3,3,1],strides=[1,2,2,1],padding='VALID')\n",
        "                layers.append(x)\n",
        "            with tf.variable_scope('layer9'):\n",
        "                x = fire_module(x,256,48,192,192)\n",
        "                layers.append(x)\n",
        "            with tf.variable_scope('layer10'):\n",
        "                x = fire_module(x,384,48,192,192)\n",
        "                layers.append(x)\n",
        "            with tf.variable_scope('layer11'):\n",
        "                x = fire_module(x,384,64,256,256)\n",
        "                layers.append(x)\n",
        "            with tf.variable_scope('layer12'):\n",
        "                x = fire_module(x,512,64,256,256)\n",
        "                layers.append(x)\n",
        "        return layers\n",
        "\n",
        "    def __init__(self, save_path=None, sess=None):\n",
        "        \"\"\"Create a SqueezeNet model.\n",
        "        Inputs:\n",
        "        - save_path: path to TensorFlow checkpoint\n",
        "        - sess: TensorFlow session\n",
        "        - input: optional input to the model. If None, will use placeholder for input.\n",
        "        \"\"\"\n",
        "        self.image = tf.placeholder('float',shape=[None,None,None,3],name='input_image')\n",
        "        self.labels = tf.placeholder('int32', shape=[None], name='labels')\n",
        "        self.layers = []\n",
        "        x = self.image\n",
        "        self.layers = self.extract_features(x, reuse=False)\n",
        "        self.features = self.layers[-1]\n",
        "        with tf.variable_scope('classifier'):\n",
        "            with tf.variable_scope('layer0'):\n",
        "                x = self.features\n",
        "                self.layers.append(x)\n",
        "            with tf.variable_scope('layer1'):\n",
        "                W = tf.get_variable(\"weights\",shape=[1,1,512,1000])\n",
        "                b = tf.get_variable(\"bias\",shape=[1000])\n",
        "                x = tf.nn.conv2d(x,W,[1,1,1,1],\"VALID\")\n",
        "                x = tf.nn.bias_add(x,b)\n",
        "                self.layers.append(x)\n",
        "            with tf.variable_scope('layer2'):\n",
        "                x = tf.nn.relu(x)\n",
        "                self.layers.append(x)\n",
        "            with tf.variable_scope('layer3'):\n",
        "                x = tf.nn.avg_pool(x,[1,13,13,1],strides=[1,13,13,1],padding='VALID')\n",
        "                self.layers.append(x)\n",
        "        self.scores = tf.reshape(x,[-1, NUM_CLASSES])\n",
        "\n",
        "        if save_path is not None:\n",
        "            saver = tf.train.Saver()\n",
        "            saver.restore(sess, save_path)\n",
        "        self.loss = tf.reduce_mean(tf.nn.softmax_cross_entropy_with_logits_v2(labels=tf.one_hot(self.labels, NUM_CLASSES), logits=self.scores))"
      ],
      "execution_count": 0,
      "outputs": []
    },
    {
      "metadata": {
        "editable": true,
        "deletable": true,
        "id": "bXMSRtT8Qv5D",
        "colab_type": "code",
        "colab": {}
      },
      "cell_type": "code",
      "source": [
        "tf.reset_default_graph() # remove all existing variables in the graph \n",
        "sess = get_session() # start a new Session\n",
        "\n",
        "DRIVE_DIR = '/content/drive/My Drive/uu_deep_learning_data/style_transfer'\n",
        "SAVE_PATH = '/content/drive/My Drive/uu_deep_learning_data/squeezenet/squeezenet.ckpt'\n",
        "\n",
        "# Load pretrained SqueezeNet model\n",
        "model = SqueezeNet(save_path=SAVE_PATH, sess=sess)\n",
        "\n",
        "# Load data for testing\n",
        "content_img_test = preprocess_image(load_image(os.path.join(DRIVE_DIR, 'styles/tubingen.jpg'), size=192))[None]\n",
        "style_img_test = preprocess_image(load_image(os.path.join(DRIVE_DIR, 'styles/starry_night.jpg'), size=192))[None]\n",
        "answers = np.load(os.path.join(DRIVE_DIR, 'styles/style-transfer-checks-tf.npz'))"
      ],
      "execution_count": 0,
      "outputs": []
    },
    {
      "metadata": {
        "editable": true,
        "deletable": true,
        "id": "2WCVTfy7Qv5G",
        "colab_type": "text"
      },
      "cell_type": "markdown",
      "source": [
        "## Computing Loss\n",
        "\n",
        "We're going to compute the three components of our loss function now. The loss function is a weighted sum of three terms: content loss + style loss + total variation loss. You'll fill in the functions that compute these weighted terms below."
      ]
    },
    {
      "metadata": {
        "editable": true,
        "deletable": true,
        "id": "K_h0hLzNQv5H",
        "colab_type": "text"
      },
      "cell_type": "markdown",
      "source": [
        "## Content loss\n",
        "We can generate an image that reflects the content of one image and the style of another by incorporating both in our loss function. We want to penalize deviations from the content of the content image and deviations from the style of the style image. We can then use this hybrid loss function to perform gradient descent **not on the parameters** of the model, but instead **on the pixel values** of our original image.\n",
        "\n",
        "Let's first write the content loss function. Content loss measures how much the feature map of the generated image differs from the feature map of the source image. We only care about the content representation of one layer of the network (say, layer $\\ell$), that has feature maps $A^\\ell \\in \\mathbb{R}^{1 \\times H_\\ell \\times W_\\ell \\times C_\\ell}$. $C_\\ell$ is the number of filters/channels in layer $\\ell$, $H_\\ell$ and $W_\\ell$ are the height and width. We will work with reshaped versions of these feature maps that combine all spatial positions into one dimension. Let $F^\\ell \\in \\mathbb{R}^{M_\\ell \\times C_\\ell}$ be the feature map for the current image and $P^\\ell \\in \\mathbb{R}^{M_\\ell \\times C_\\ell}$ be the feature map for the content source image where $M_\\ell=H_\\ell\\times W_\\ell$ is the number of elements in each feature map. Each row of $F^\\ell$ or $P^\\ell$ represents the vectorized activations of a particular filter, convolved over all positions of the image. Finally, let $w_c$ be the weight of the content loss term in the loss function.\n",
        "\n",
        "Then the content loss is given by:\n",
        "\n",
        "$L_c = w_c \\times \\sum_{i,j} (F_{ij}^{\\ell} - P_{ij}^{\\ell})^2$"
      ]
    },
    {
      "metadata": {
        "editable": true,
        "deletable": true,
        "id": "He313aEBQv5I",
        "colab_type": "code",
        "colab": {}
      },
      "cell_type": "code",
      "source": [
        "def content_loss(content_weight, content_current, content_original):\n",
        "    \"\"\"\n",
        "    Compute the content loss for style transfer.\n",
        "    \n",
        "    Inputs:\n",
        "    - content_weight: scalar constant we multiply the content_loss by.\n",
        "    - content_current: features of the current image, Tensor with shape [1, height, width, channels]\n",
        "    - content_target: features of the content image, Tensor with shape [1, height, width, channels]\n",
        "    \n",
        "    Returns:\n",
        "    - loss: scalar content loss\n",
        "    \"\"\"\n",
        "    loss = None\n",
        "    ##############################################################################\n",
        "    # todo: implement the content loss                                           #\n",
        "    ##############################################################################\n",
        "    pass\n",
        "    ##############################################################################\n",
        "    #                               end of your code                             #\n",
        "    ##############################################################################\n",
        "    return loss"
      ],
      "execution_count": 0,
      "outputs": []
    },
    {
      "metadata": {
        "editable": true,
        "deletable": true,
        "id": "CXChTfLQQv5L",
        "colab_type": "text"
      },
      "cell_type": "markdown",
      "source": [
        "Test your content loss. You should see errors less than 0.0001."
      ]
    },
    {
      "metadata": {
        "editable": true,
        "deletable": true,
        "id": "4LKGJyogQv5M",
        "colab_type": "code",
        "colab": {}
      },
      "cell_type": "code",
      "source": [
        "def content_loss_test(correct):\n",
        "    content_layer = 3\n",
        "    content_weight = 6e-2\n",
        "    c_feats = sess.run(model.extract_features()[content_layer], {model.image: content_img_test})\n",
        "    bad_img = tf.zeros(content_img_test.shape)\n",
        "    feats = model.extract_features(bad_img)[content_layer]\n",
        "    student_output = sess.run(content_loss(content_weight, c_feats, feats))\n",
        "    error = rel_error(correct, student_output)\n",
        "    print('Maximum error is {:.3f}'.format(error))\n",
        "\n",
        "content_loss_test(answers['cl_out'])"
      ],
      "execution_count": 0,
      "outputs": []
    },
    {
      "metadata": {
        "editable": true,
        "deletable": true,
        "id": "d7n-ehnKQv5P",
        "colab_type": "text"
      },
      "cell_type": "markdown",
      "source": [
        "## Style loss\n",
        "Now we can tackle the style loss. For a given layer $\\ell$, the style loss is defined as follows:\n",
        "\n",
        "First, compute the Gram matrix G which represents the correlations between the responses of each filter, where F is as above. The Gram matrix is an approximation to the covariance matrix -- we want the activation statistics of our generated image to match the activation statistics of our style image, and matching the (approximate) covariance is one way to do that. There are a variety of ways you could do this, but the Gram matrix is nice because it's easy to compute and in practice shows good results.\n",
        "\n",
        "Given a feature map $F^\\ell$ of shape $(M_\\ell, C_\\ell)$, the Gram matrix has shape $(C_\\ell, C_\\ell)$ and its elements are given by:\n",
        "\n",
        "$$G_{ij}^\\ell  = \\sum_k F^{\\ell}_{ki} F^{\\ell}_{kj}$$\n",
        "\n",
        "Assuming $G^\\ell$ is the Gram matrix from the feature map of the current image, $A^\\ell$ is the Gram Matrix from the feature map of the source style image, and $w_\\ell$ a scalar weight term, then the style loss for the layer $\\ell$ is simply the weighted Euclidean distance between the two Gram matrices:\n",
        "\n",
        "$$L_s^\\ell = w_\\ell \\sum_{i, j} \\left(G^\\ell_{ij} - A^\\ell_{ij}\\right)^2$$\n",
        "\n",
        "In practice we usually compute the style loss at a set of layers $\\mathcal{L}$ rather than just a single layer $\\ell$; then the total style loss is the sum of style losses at each layer:\n",
        "\n",
        "$$L_s = \\sum_{\\ell \\in \\mathcal{L}} L_s^\\ell$$\n",
        "\n",
        "Begin by implementing the Gram matrix computation below:"
      ]
    },
    {
      "metadata": {
        "editable": true,
        "deletable": true,
        "id": "PyCVFROqQv5Q",
        "colab_type": "code",
        "colab": {}
      },
      "cell_type": "code",
      "source": [
        "def gram_matrix(features, normalize=True):\n",
        "    \"\"\"\n",
        "    Compute the Gram matrix from features.\n",
        "    \n",
        "    Inputs:\n",
        "    - features: Tensor of shape (1, H, W, C) giving features for\n",
        "      a single image.\n",
        "    - normalize: optional, whether to normalize the Gram matrix\n",
        "        If True, divide the Gram matrix by the number of neurons (H * W * C)\n",
        "    \n",
        "    Returns:\n",
        "    - gram: Tensor of shape (C, C) giving the (optionally normalized)\n",
        "      Gram matrices for the input image.\n",
        "    \"\"\"\n",
        "    gram = None\n",
        "    ##############################################################################\n",
        "    # todo: implement the calculation of the Gram matrix                         #\n",
        "    ##############################################################################\n",
        "    pass\n",
        "    ##############################################################################\n",
        "    #                               end of your code                             #\n",
        "    ##############################################################################\n",
        "    return gram    "
      ],
      "execution_count": 0,
      "outputs": []
    },
    {
      "metadata": {
        "editable": true,
        "deletable": true,
        "id": "T578scK8Qv5T",
        "colab_type": "text"
      },
      "cell_type": "markdown",
      "source": [
        "Test your Gram matrix code. You should see errors less than 0.0001."
      ]
    },
    {
      "metadata": {
        "editable": true,
        "deletable": true,
        "id": "KKZT_OfeQv5V",
        "colab_type": "code",
        "colab": {}
      },
      "cell_type": "code",
      "source": [
        "def gram_matrix_test(correct):\n",
        "    gram = gram_matrix(model.extract_features()[5])\n",
        "    student_output = sess.run(gram, {model.image: style_img_test})\n",
        "    error = rel_error(correct, student_output)\n",
        "    print('Maximum error is {:.3f}'.format(error))\n",
        "\n",
        "gram_matrix_test(answers['gm_out'])"
      ],
      "execution_count": 0,
      "outputs": []
    },
    {
      "metadata": {
        "editable": true,
        "deletable": true,
        "id": "2uBARaDzQv5Y",
        "colab_type": "text"
      },
      "cell_type": "markdown",
      "source": [
        "Next, implement the style loss:"
      ]
    },
    {
      "metadata": {
        "editable": true,
        "deletable": true,
        "id": "tRB8Y3ijQv5Z",
        "colab_type": "code",
        "colab": {}
      },
      "cell_type": "code",
      "source": [
        "def style_loss(feats, style_layers, style_targets, style_weights):\n",
        "    \"\"\"\n",
        "    Computes the style loss at a set of layers.\n",
        "    \n",
        "    Inputs:\n",
        "    - feats: list of the features at every layer of the current image, as produced by\n",
        "      the extract_features function.\n",
        "    - style_layers: List of layer indices into feats giving the layers to include in the\n",
        "      style loss.\n",
        "    - style_targets: List of the same length as style_layers, where style_targets[i] is\n",
        "      a Tensor giving the Gram matrix of the source style image computed at\n",
        "      layer style_layers[i].\n",
        "    - style_weights: List of the same length as style_layers, where style_weights[i]\n",
        "      is a scalar giving the weight for the style loss at layer style_layers[i].\n",
        "      \n",
        "    Returns:\n",
        "    - loss: A Tensor containing the scalar style loss.\n",
        "    \"\"\"\n",
        "    loss = None\n",
        "    ##############################################################################\n",
        "    # todo: implement the style loss                                             #\n",
        "    # Hint: you can do this with one for loop over the style layers, and should  #\n",
        "    # not be very much code (~5 lines). You will need to use your gram_matrix    #\n",
        "    # function.                                                                  #\n",
        "    ##############################################################################\n",
        "    pass\n",
        "    ##############################################################################\n",
        "    #                               end of your code                             #\n",
        "    ##############################################################################\n",
        "    return loss"
      ],
      "execution_count": 0,
      "outputs": []
    },
    {
      "metadata": {
        "editable": true,
        "deletable": true,
        "id": "dA3mJTJ8Qv5d",
        "colab_type": "text"
      },
      "cell_type": "markdown",
      "source": [
        "Test your style loss implementation. The error should be less than 0.0001."
      ]
    },
    {
      "metadata": {
        "editable": true,
        "deletable": true,
        "id": "x1TpFXqqQv5e",
        "colab_type": "code",
        "colab": {}
      },
      "cell_type": "code",
      "source": [
        "def style_loss_test(correct):\n",
        "    style_layers = [1, 4, 6, 7]\n",
        "    style_weights = [300000, 1000, 15, 3]\n",
        "    \n",
        "    feats = model.extract_features()\n",
        "    style_target_vars = []\n",
        "    for idx in style_layers:\n",
        "        style_target_vars.append(gram_matrix(feats[idx]))\n",
        "    style_targets = sess.run(style_target_vars,\n",
        "                             {model.image: style_img_test})\n",
        "                             \n",
        "    s_loss = style_loss(feats, style_layers, style_targets, style_weights)\n",
        "    student_output = sess.run(s_loss, {model.image: content_img_test})\n",
        "    error = rel_error(correct, student_output)\n",
        "    print('Error is {:.3f}'.format(error))\n",
        "\n",
        "style_loss_test(answers['sl_out'])"
      ],
      "execution_count": 0,
      "outputs": []
    },
    {
      "metadata": {
        "editable": true,
        "deletable": true,
        "id": "40NBjm-uQv5g",
        "colab_type": "text"
      },
      "cell_type": "markdown",
      "source": [
        "## Total-variation regularization\n",
        "It turns out that it's helpful to also encourage smoothness in the image. We can do this by adding another term to our loss that penalizes wiggles or \"total variation\" in the pixel values. \n",
        "\n",
        "You can compute the \"total variation\" as the sum of the squares of differences in the pixel values for all pairs of pixels that are next to each other (horizontally or vertically). Here we sum the total-variation regualarization for each of the 3 input channels (RGB), and weight the total summed loss by the total variation weight, $w_t$:\n",
        "\n",
        "$L_{tv} = w_t \\times \\left(\\sum_{c=1}^3\\sum_{i=1}^{H-1}\\sum_{j=1}^{W} (x_{i+1,j,c} - x_{i,j,c})^2 + \\sum_{c=1}^3\\sum_{i=1}^{H}\\sum_{j=1}^{W - 1} (x_{i,j+1,c} - x_{i,j,c})^2\\right)$\n",
        "\n",
        "In the next cell, fill in the definition for the TV loss term. To receive full credit, your implementation should not have any loops."
      ]
    },
    {
      "metadata": {
        "editable": true,
        "deletable": true,
        "id": "aq_m5o1LQv5h",
        "colab_type": "code",
        "colab": {}
      },
      "cell_type": "code",
      "source": [
        "def tv_loss(img, tv_weight):\n",
        "    \"\"\"\n",
        "    Compute total variation loss.\n",
        "    \n",
        "    Inputs:\n",
        "    - img: Tensor of shape (1, H, W, 3) holding an input image.\n",
        "    - tv_weight: Scalar giving the weight w_t to use for the TV loss.\n",
        "    \n",
        "    Returns:\n",
        "    - loss: Tensor holding a scalar giving the total variation loss\n",
        "      for img weighted by tv_weight.\n",
        "    \"\"\"\n",
        "    loss = None\n",
        "    ##############################################################################\n",
        "    # todo: implement the total variation loss                                   #\n",
        "    # Your implementation should be vectorized and not require any loops!        #\n",
        "    ##############################################################################\n",
        "    pass\n",
        "    ##############################################################################\n",
        "    #                               end of your code                             #\n",
        "    ##############################################################################\n",
        "    return loss"
      ],
      "execution_count": 0,
      "outputs": []
    },
    {
      "metadata": {
        "editable": true,
        "deletable": true,
        "id": "SIhSGmDgQv5k",
        "colab_type": "text"
      },
      "cell_type": "markdown",
      "source": [
        "Test your TV loss implementation. Error should be less  than 0.0001."
      ]
    },
    {
      "metadata": {
        "editable": true,
        "deletable": true,
        "id": "-Ui4sCoyQv5l",
        "colab_type": "code",
        "colab": {}
      },
      "cell_type": "code",
      "source": [
        "def tv_loss_test(correct):\n",
        "    tv_weight = 2e-2\n",
        "    t_loss = tv_loss(model.image, tv_weight)\n",
        "    student_output = sess.run(t_loss, {model.image: content_img_test})\n",
        "    error = rel_error(correct, student_output)\n",
        "    print('Error is {:.3f}'.format(error))\n",
        "\n",
        "tv_loss_test(answers['tv_out'])"
      ],
      "execution_count": 0,
      "outputs": []
    },
    {
      "metadata": {
        "editable": true,
        "deletable": true,
        "id": "o0Jf9MfvQv5r",
        "colab_type": "text"
      },
      "cell_type": "markdown",
      "source": [
        "## Style Transfer"
      ]
    },
    {
      "metadata": {
        "editable": true,
        "deletable": true,
        "id": "_c3J5OudQv5s",
        "colab_type": "text"
      },
      "cell_type": "markdown",
      "source": [
        "Lets put it all together and make some beautiful images! The `style_transfer` function below combines all the losses you coded up above and optimizes for an image that minimizes the total loss."
      ]
    },
    {
      "metadata": {
        "editable": true,
        "deletable": true,
        "id": "2HcQd__OQv5u",
        "colab_type": "code",
        "colab": {}
      },
      "cell_type": "code",
      "source": [
        "def style_transfer(content_image, style_image, image_size, style_size, content_layer, content_weight,\n",
        "                   style_layers, style_weights, tv_weight, init_random = False):\n",
        "    \"\"\"Run style transfer!\n",
        "    \n",
        "    Inputs:\n",
        "    - content_image: filename of content image\n",
        "    - style_image: filename of style image\n",
        "    - image_size: size of smallest image dimension (used for content loss and generated image)\n",
        "    - style_size: size of smallest style image dimension\n",
        "    - content_layer: layer to use for content loss\n",
        "    - content_weight: weighting on content loss\n",
        "    - style_layers: list of layers to use for style loss\n",
        "    - style_weights: list of weights to use for each layer in style_layers\n",
        "    - tv_weight: weight of total variation regularization term\n",
        "    - init_random: initialize the starting image to uniform random noise\n",
        "    \"\"\"\n",
        "    # Extract features from the content image\n",
        "    content_img = preprocess_image(load_image(content_image, size=image_size))\n",
        "    feats = model.extract_features(model.image)\n",
        "    content_target = sess.run(feats[content_layer],\n",
        "                              {model.image: content_img[None]})\n",
        "\n",
        "    # Extract features from the style image\n",
        "    style_img = preprocess_image(load_image(style_image, size=style_size))\n",
        "    style_feat_vars = [feats[idx] for idx in style_layers]\n",
        "    style_target_vars = []\n",
        "    # Compute list of TensorFlow Gram matrices\n",
        "    for style_feat_var in style_feat_vars:\n",
        "        style_target_vars.append(gram_matrix(style_feat_var))\n",
        "    # Compute list of NumPy Gram matrices by evaluating the TensorFlow graph on the style image\n",
        "    style_targets = sess.run(style_target_vars, {model.image: style_img[None]})\n",
        "\n",
        "    # Initialize generated image to content image\n",
        "    \n",
        "    if init_random:\n",
        "        img_var = tf.Variable(tf.random_uniform(content_img[None].shape, 0, 1), name=\"image\")\n",
        "    else:\n",
        "        img_var = tf.Variable(content_img[None], name=\"image\")\n",
        "\n",
        "    # Extract features on generated image\n",
        "    feats = model.extract_features(img_var)\n",
        "    # Compute loss\n",
        "    c_loss = content_loss(content_weight, feats[content_layer], content_target)\n",
        "    s_loss = style_loss(feats, style_layers, style_targets, style_weights)\n",
        "    t_loss = tv_loss(img_var, tv_weight)\n",
        "    loss = c_loss + s_loss + t_loss\n",
        "    \n",
        "    # Set up optimization hyperparameters\n",
        "    initial_lr = 3.0\n",
        "    decayed_lr = 0.1\n",
        "    decay_lr_at = 180\n",
        "    max_iter = 200\n",
        "\n",
        "    # Create and initialize the Adam optimizer\n",
        "    lr_var = tf.Variable(initial_lr, name=\"lr\")\n",
        "    # Create train_op that updates the generated image when run\n",
        "    with tf.variable_scope(\"optimizer\") as opt_scope:\n",
        "        train_op = tf.train.AdamOptimizer(lr_var).minimize(loss, var_list=[img_var])\n",
        "    # Initialize the generated image and optimization variables\n",
        "    opt_vars = tf.get_collection(tf.GraphKeys.GLOBAL_VARIABLES, scope=opt_scope.name)\n",
        "    sess.run(tf.variables_initializer([lr_var, img_var] + opt_vars))\n",
        "    # Create an op that will clamp the image values when run\n",
        "    clamp_image_op = tf.assign(img_var, tf.clip_by_value(img_var, -1.5, 1.5))\n",
        "    \n",
        "    f, axarr = plt.subplots(1,2)\n",
        "    axarr[0].axis('off')\n",
        "    axarr[1].axis('off')\n",
        "    axarr[0].set_title('Content Source Img.')\n",
        "    axarr[1].set_title('Style Source Img.')\n",
        "    axarr[0].imshow(deprocess_image(content_img))\n",
        "    axarr[1].imshow(deprocess_image(style_img))\n",
        "    plt.show()\n",
        "    plt.figure()\n",
        "    \n",
        "    # Hardcoded handcrafted \n",
        "    for t in range(max_iter):\n",
        "        # Take an optimization step to update img_var\n",
        "        sess.run(train_op)\n",
        "        if t < decay_lr_at:\n",
        "            sess.run(clamp_image_op)\n",
        "        if t == decay_lr_at:\n",
        "            sess.run(tf.assign(lr_var, decayed_lr))\n",
        "        if t % 100 == 0:\n",
        "            print('Iteration {}'.format(t))\n",
        "            img = sess.run(img_var)\n",
        "            plt.imshow(deprocess_image(img[0], rescale=True))\n",
        "            plt.axis('off')\n",
        "            plt.show()\n",
        "    print('Iteration {}'.format(t))\n",
        "    img = sess.run(img_var)        \n",
        "    plt.imshow(deprocess_image(img[0], rescale=True))\n",
        "    plt.axis('off')\n",
        "    plt.show()"
      ],
      "execution_count": 0,
      "outputs": []
    },
    {
      "metadata": {
        "editable": true,
        "deletable": true,
        "id": "j6dAvrdGQv5w",
        "colab_type": "text"
      },
      "cell_type": "markdown",
      "source": [
        "## Generate some pretty pictures!\n",
        "\n",
        "Try out `style_transfer` on the three different parameter sets below. Make sure to run all three cells. Feel free to add your own, but make sure to include the results of style transfer on the third parameter set (starry night) in your submitted notebook.\n",
        "\n",
        "* The `content_image` is the filename of content image.\n",
        "* The `style_image` is the filename of style image.\n",
        "* The `image_size` is the size of smallest image dimension of the content image (used for content loss and generated image).\n",
        "* The `style_size` is the size of smallest style image dimension.\n",
        "* The `content_layer` specifies which layer to use for content loss.\n",
        "* The `content_weight` gives weighting on content loss in the overall loss function. Increasing the value of this parameter will make the final image look more realistic (closer to the original content).\n",
        "* `style_layers` specifies a list of which layers to use for style loss. \n",
        "* `style_weights` specifies a list of weights to use for each layer in style_layers (each of which will contribute a term to the overall style loss). We generally use higher weights for the earlier style layers because they describe more local/smaller scale features, which are more important to texture than features over larger receptive fields. In general, increasing these weights will make the resulting image look less like the original content and more distorted towards the appearance of the style image.\n",
        "* `tv_weight` specifies the weighting of total variation regularization in the overall loss function. Increasing this value makes the resulting image look smoother and less jagged, at the cost of lower fidelity to style and content. \n",
        "\n",
        "Below the next three cells of code (in which you shouldn't change the hyperparameters), feel free to copy and paste the parameters to play around them and see how the resulting image changes. "
      ]
    },
    {
      "metadata": {
        "editable": true,
        "deletable": true,
        "id": "CTKuxpB0Qv5w",
        "colab_type": "code",
        "colab": {}
      },
      "cell_type": "code",
      "source": [
        "# Composition VII + Tubingen\n",
        "params1 = {\n",
        "    'content_image': os.path.join(DRIVE_DIR, 'styles/tubingen.jpg'),\n",
        "    'style_image': os.path.join(DRIVE_DIR, 'styles/composition_vii.jpg'),\n",
        "    'image_size': 192,\n",
        "    'style_size': 512,\n",
        "    'content_layer': 3,\n",
        "    'content_weight': 5e-2, \n",
        "    'style_layers': (1, 4, 6, 7),\n",
        "    'style_weights': (20000, 500, 12, 1),\n",
        "    'tv_weight': 5e-2\n",
        "}\n",
        "\n",
        "style_transfer(**params1)"
      ],
      "execution_count": 0,
      "outputs": []
    },
    {
      "metadata": {
        "scrolled": true,
        "editable": true,
        "deletable": true,
        "id": "xCilN7eMQv5z",
        "colab_type": "code",
        "colab": {}
      },
      "cell_type": "code",
      "source": [
        "# Scream + Tubingen\n",
        "params2 = {\n",
        "    'content_image': os.path.join(DRIVE_DIR, 'styles/tubingen.jpg'),\n",
        "    'style_image': os.path.join(DRIVE_DIR, 'styles/the_scream.jpg'),\n",
        "    'image_size': 192,\n",
        "    'style_size': 224,\n",
        "    'content_layer': 3,\n",
        "    'content_weight': 3e-2,\n",
        "    'style_layers': [1, 4, 6, 7],\n",
        "    'style_weights': [200000, 800, 12, 1],\n",
        "    'tv_weight': 2e-2\n",
        "}\n",
        "\n",
        "style_transfer(**params2)"
      ],
      "execution_count": 0,
      "outputs": []
    },
    {
      "metadata": {
        "editable": true,
        "deletable": true,
        "id": "hpqBvazlQv51",
        "colab_type": "code",
        "colab": {}
      },
      "cell_type": "code",
      "source": [
        "# Starry Night + Tubingen\n",
        "params3 = {\n",
        "    'content_image': os.path.join(DRIVE_DIR, 'styles/tubingen.jpg'),\n",
        "    'style_image': os.path.join(DRIVE_DIR, 'styles/starry_night.jpg'),\n",
        "    'image_size': 192,\n",
        "    'style_size': 192,\n",
        "    'content_layer': 3,\n",
        "    'content_weight': 6e-2,\n",
        "    'style_layers': [1, 4, 6, 7],\n",
        "    'style_weights': [300000, 1000, 15, 3],\n",
        "    'tv_weight': 2e-2\n",
        "}\n",
        "\n",
        "style_transfer(**params3)"
      ],
      "execution_count": 0,
      "outputs": []
    },
    {
      "metadata": {
        "editable": true,
        "deletable": true,
        "id": "seNUnyMYQv56",
        "colab_type": "text"
      },
      "cell_type": "markdown",
      "source": [
        "## Feature Inversion\n",
        "\n",
        "The code you've written can do another cool thing. In an attempt to understand the types of features that convolutional networks learn to recognize, a recent paper [1] attempts to reconstruct an image from its feature representation. We can easily implement this idea using image gradients from the pretrained network, which is exactly what we did above (but with two different feature representations).\n",
        "\n",
        "Now, if you set the style weights to all be 0 and initialize the starting image to random noise instead of the content source image, you'll reconstruct an image from the feature representation of the content source image. You're starting with total noise, but you should end up with something that looks quite a bit like your original image.\n",
        "\n",
        "(Similarly, you could do \"texture synthesis\" from scratch if you set the content weight to 0 and initialize the starting image to random noise, but we won't ask you to do that here.) \n",
        "\n",
        "Run the following cell to try out feature inversion.\n",
        "\n",
        "[1] Aravindh Mahendran, Andrea Vedaldi, \"Understanding Deep Image Representations by Inverting them\", CVPR 2015\n"
      ]
    },
    {
      "metadata": {
        "editable": true,
        "deletable": true,
        "id": "8Ia6oW4zQv57",
        "colab_type": "code",
        "colab": {}
      },
      "cell_type": "code",
      "source": [
        "# Feature Inversion -- Starry Night + Tubingen\n",
        "params_inv = {\n",
        "    'content_image': os.path.join(DRIVE_DIR, 'styles/tubingen.jpg'),\n",
        "    'style_image': os.path.join(DRIVE_DIR, 'styles/starry_night.jpg'),\n",
        "    'image_size': 192,\n",
        "    'style_size': 192,\n",
        "    'content_layer': 3,\n",
        "    'content_weight': 6e-2,\n",
        "    'style_layers': [1, 4, 6, 7],\n",
        "    'style_weights': [0, 0, 0, 0], # we discard any contributions from style to the loss\n",
        "    'tv_weight': 2e-2,\n",
        "    'init_random': True # we want to initialize our image to be random\n",
        "}\n",
        "\n",
        "style_transfer(**params_inv)"
      ],
      "execution_count": 0,
      "outputs": []
    }
  ]
}